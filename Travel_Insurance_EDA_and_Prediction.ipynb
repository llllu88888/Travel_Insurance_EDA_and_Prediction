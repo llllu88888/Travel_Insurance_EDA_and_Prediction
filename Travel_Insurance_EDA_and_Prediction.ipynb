{
 "cells": [
  {
   "cell_type": "markdown",
   "id": "8b0ca4a6",
   "metadata": {},
   "source": [
    "\n",
    "1. Questions I want to answer:\n",
    "- What kind of consumers did this insurance attract?\n",
    "- What suggestions we can give to improve sales?\n",
    "- How to construct models to make prediction?\n",
    "2. What I did:\n",
    "- use data visualization to explore the relationship between customers characteristics and whether the customer bought the insurance or not\n",
    "- conduct statistics tests to futher explore the relationship\n",
    "- Use logistic regression to make prediction"
   ]
  },
  {
   "cell_type": "code",
   "execution_count": 76,
   "id": "5aa5e88b",
   "metadata": {},
   "outputs": [],
   "source": []
  },
  {
   "cell_type": "code",
   "execution_count": 2,
   "id": "023eedca",
   "metadata": {},
   "outputs": [],
   "source": [
    "# import\n",
    "import numpy as np\n",
    "import pandas as pd\n",
    "import seaborn as sns\n",
    "import matplotlib.pyplot as plt\n"
   ]
  },
  {
   "cell_type": "code",
   "execution_count": 3,
   "id": "5f194c41",
   "metadata": {},
   "outputs": [],
   "source": [
    "from scipy.stats import ttest_ind"
   ]
  },
  {
   "cell_type": "code",
   "execution_count": 251,
   "id": "bb8c0162",
   "metadata": {},
   "outputs": [
    {
     "data": {
      "text/html": [
       "<div>\n",
       "<style scoped>\n",
       "    .dataframe tbody tr th:only-of-type {\n",
       "        vertical-align: middle;\n",
       "    }\n",
       "\n",
       "    .dataframe tbody tr th {\n",
       "        vertical-align: top;\n",
       "    }\n",
       "\n",
       "    .dataframe thead th {\n",
       "        text-align: right;\n",
       "    }\n",
       "</style>\n",
       "<table border=\"1\" class=\"dataframe\">\n",
       "  <thead>\n",
       "    <tr style=\"text-align: right;\">\n",
       "      <th></th>\n",
       "      <th>Age</th>\n",
       "      <th>Employment Type</th>\n",
       "      <th>GraduateOrNot</th>\n",
       "      <th>AnnualIncome</th>\n",
       "      <th>FamilyMembers</th>\n",
       "      <th>ChronicDiseases</th>\n",
       "      <th>FrequentFlyer</th>\n",
       "      <th>EverTravelledAbroad</th>\n",
       "      <th>TravelInsurance</th>\n",
       "    </tr>\n",
       "  </thead>\n",
       "  <tbody>\n",
       "    <tr>\n",
       "      <th>0</th>\n",
       "      <td>31</td>\n",
       "      <td>Government Sector</td>\n",
       "      <td>Yes</td>\n",
       "      <td>400000</td>\n",
       "      <td>6</td>\n",
       "      <td>1</td>\n",
       "      <td>No</td>\n",
       "      <td>No</td>\n",
       "      <td>0</td>\n",
       "    </tr>\n",
       "    <tr>\n",
       "      <th>1</th>\n",
       "      <td>31</td>\n",
       "      <td>Private Sector/Self Employed</td>\n",
       "      <td>Yes</td>\n",
       "      <td>1250000</td>\n",
       "      <td>7</td>\n",
       "      <td>0</td>\n",
       "      <td>No</td>\n",
       "      <td>No</td>\n",
       "      <td>0</td>\n",
       "    </tr>\n",
       "    <tr>\n",
       "      <th>2</th>\n",
       "      <td>34</td>\n",
       "      <td>Private Sector/Self Employed</td>\n",
       "      <td>Yes</td>\n",
       "      <td>500000</td>\n",
       "      <td>4</td>\n",
       "      <td>1</td>\n",
       "      <td>No</td>\n",
       "      <td>No</td>\n",
       "      <td>1</td>\n",
       "    </tr>\n",
       "    <tr>\n",
       "      <th>3</th>\n",
       "      <td>28</td>\n",
       "      <td>Private Sector/Self Employed</td>\n",
       "      <td>Yes</td>\n",
       "      <td>700000</td>\n",
       "      <td>3</td>\n",
       "      <td>1</td>\n",
       "      <td>No</td>\n",
       "      <td>No</td>\n",
       "      <td>0</td>\n",
       "    </tr>\n",
       "    <tr>\n",
       "      <th>4</th>\n",
       "      <td>28</td>\n",
       "      <td>Private Sector/Self Employed</td>\n",
       "      <td>Yes</td>\n",
       "      <td>700000</td>\n",
       "      <td>8</td>\n",
       "      <td>1</td>\n",
       "      <td>Yes</td>\n",
       "      <td>No</td>\n",
       "      <td>0</td>\n",
       "    </tr>\n",
       "  </tbody>\n",
       "</table>\n",
       "</div>"
      ],
      "text/plain": [
       "   Age               Employment Type GraduateOrNot  AnnualIncome  \\\n",
       "0   31             Government Sector           Yes        400000   \n",
       "1   31  Private Sector/Self Employed           Yes       1250000   \n",
       "2   34  Private Sector/Self Employed           Yes        500000   \n",
       "3   28  Private Sector/Self Employed           Yes        700000   \n",
       "4   28  Private Sector/Self Employed           Yes        700000   \n",
       "\n",
       "   FamilyMembers  ChronicDiseases FrequentFlyer EverTravelledAbroad  \\\n",
       "0              6                1            No                  No   \n",
       "1              7                0            No                  No   \n",
       "2              4                1            No                  No   \n",
       "3              3                1            No                  No   \n",
       "4              8                1           Yes                  No   \n",
       "\n",
       "   TravelInsurance  \n",
       "0                0  \n",
       "1                0  \n",
       "2                1  \n",
       "3                0  \n",
       "4                0  "
      ]
     },
     "execution_count": 251,
     "metadata": {},
     "output_type": "execute_result"
    }
   ],
   "source": [
    "df=pd.read_csv('TravelInsurancePrediction.csv').drop(columns=['Unnamed: 0'])\n",
    "df.head()"
   ]
  },
  {
   "cell_type": "markdown",
   "id": "4c614285",
   "metadata": {},
   "source": [
    "# EDA"
   ]
  },
  {
   "cell_type": "code",
   "execution_count": 172,
   "id": "4895da64",
   "metadata": {},
   "outputs": [
    {
     "name": "stdout",
     "output_type": "stream",
     "text": [
      "<class 'pandas.core.frame.DataFrame'>\n",
      "RangeIndex: 1987 entries, 0 to 1986\n",
      "Data columns (total 9 columns):\n",
      " #   Column               Non-Null Count  Dtype \n",
      "---  ------               --------------  ----- \n",
      " 0   Age                  1987 non-null   int64 \n",
      " 1   Employment Type      1987 non-null   object\n",
      " 2   GraduateOrNot        1987 non-null   object\n",
      " 3   AnnualIncome         1987 non-null   int64 \n",
      " 4   FamilyMembers        1987 non-null   int64 \n",
      " 5   ChronicDiseases      1987 non-null   int64 \n",
      " 6   FrequentFlyer        1987 non-null   object\n",
      " 7   EverTravelledAbroad  1987 non-null   object\n",
      " 8   TravelInsurance      1987 non-null   int64 \n",
      "dtypes: int64(5), object(4)\n",
      "memory usage: 139.8+ KB\n"
     ]
    }
   ],
   "source": [
    "df.info()"
   ]
  },
  {
   "cell_type": "markdown",
   "id": "f7c20d07",
   "metadata": {},
   "source": [
    "- Background:\\\n",
    "A Tour & Travels Company is Offering Travel Insurance Package To Their Customers.The new insurance package also includes Covid Cover.The company requires to know which customers would be interested to buy it based on its database history.\n",
    "The insurance was offered to some of the customers in 2019, and the given data has been extracted from the performance/sales of the package during that period.\n",
    "\n",
    "- This dataset contains:\\\n",
    "Age- Age Of The Customer\\\n",
    "Employment Type- The Sector In Which Customer Is Employed\\\n",
    "GraduateOrNot- Whether The Customer Is College Graduate Or Not\\\n",
    "AnnualIncome- The Yearly Income Of The Customer In Indian Rupees[Rounded To Nearest 50 Thousand Rupees]\\\n",
    "FamilyMembers- Number Of Members In Customer's Family\\\n",
    "ChronicDisease- Whether The Customer Suffers From Any Major Disease Or Conditions Like Diabetes/High BP or Asthama,etc.\\\n",
    "FrequentFlyer- Derived Data Based On Customer's History Of Booking Air Tickets On Atleast 4 Different Instances In The Last 2 Years[2017-2019].\\\n",
    "EverTravelledAbroad- Has The Customer Ever Travelled To A Foreign Country[Not Necessarily Using The Company's Services]\\\n",
    "TravelInsurance- Did The Customer Buy Travel Insurance Package During Introductory Offering Held In The Year 2019.\n",
    "\n",
    "- Datasource: https://www.kaggle.com/datasets/tejashvi14/travel-insurance-prediction-data  "
   ]
  },
  {
   "cell_type": "code",
   "execution_count": 67,
   "id": "f52a880c",
   "metadata": {},
   "outputs": [],
   "source": [
    "#Missing value "
   ]
  },
  {
   "cell_type": "code",
   "execution_count": 5,
   "id": "aea8048a",
   "metadata": {},
   "outputs": [
    {
     "data": {
      "text/plain": [
       "Age                    0\n",
       "Employment Type        0\n",
       "GraduateOrNot          0\n",
       "AnnualIncome           0\n",
       "FamilyMembers          0\n",
       "ChronicDiseases        0\n",
       "FrequentFlyer          0\n",
       "EverTravelledAbroad    0\n",
       "TravelInsurance        0\n",
       "dtype: int64"
      ]
     },
     "execution_count": 5,
     "metadata": {},
     "output_type": "execute_result"
    }
   ],
   "source": [
    "df.isnull().sum()"
   ]
  },
  {
   "cell_type": "markdown",
   "id": "02abe604",
   "metadata": {},
   "source": [
    "- There is no missing value in this dataset."
   ]
  },
  {
   "cell_type": "code",
   "execution_count": 6,
   "id": "f2480d79",
   "metadata": {},
   "outputs": [
    {
     "data": {
      "text/html": [
       "<div>\n",
       "<style scoped>\n",
       "    .dataframe tbody tr th:only-of-type {\n",
       "        vertical-align: middle;\n",
       "    }\n",
       "\n",
       "    .dataframe tbody tr th {\n",
       "        vertical-align: top;\n",
       "    }\n",
       "\n",
       "    .dataframe thead th {\n",
       "        text-align: right;\n",
       "    }\n",
       "</style>\n",
       "<table border=\"1\" class=\"dataframe\">\n",
       "  <thead>\n",
       "    <tr style=\"text-align: right;\">\n",
       "      <th></th>\n",
       "      <th>Age</th>\n",
       "      <th>AnnualIncome</th>\n",
       "      <th>FamilyMembers</th>\n",
       "      <th>ChronicDiseases</th>\n",
       "      <th>TravelInsurance</th>\n",
       "    </tr>\n",
       "  </thead>\n",
       "  <tbody>\n",
       "    <tr>\n",
       "      <th>count</th>\n",
       "      <td>1987.000000</td>\n",
       "      <td>1.987000e+03</td>\n",
       "      <td>1987.000000</td>\n",
       "      <td>1987.000000</td>\n",
       "      <td>1987.000000</td>\n",
       "    </tr>\n",
       "    <tr>\n",
       "      <th>mean</th>\n",
       "      <td>29.650226</td>\n",
       "      <td>9.327630e+05</td>\n",
       "      <td>4.752894</td>\n",
       "      <td>0.277806</td>\n",
       "      <td>0.357323</td>\n",
       "    </tr>\n",
       "    <tr>\n",
       "      <th>std</th>\n",
       "      <td>2.913308</td>\n",
       "      <td>3.768557e+05</td>\n",
       "      <td>1.609650</td>\n",
       "      <td>0.448030</td>\n",
       "      <td>0.479332</td>\n",
       "    </tr>\n",
       "    <tr>\n",
       "      <th>min</th>\n",
       "      <td>25.000000</td>\n",
       "      <td>3.000000e+05</td>\n",
       "      <td>2.000000</td>\n",
       "      <td>0.000000</td>\n",
       "      <td>0.000000</td>\n",
       "    </tr>\n",
       "    <tr>\n",
       "      <th>25%</th>\n",
       "      <td>28.000000</td>\n",
       "      <td>6.000000e+05</td>\n",
       "      <td>4.000000</td>\n",
       "      <td>0.000000</td>\n",
       "      <td>0.000000</td>\n",
       "    </tr>\n",
       "    <tr>\n",
       "      <th>50%</th>\n",
       "      <td>29.000000</td>\n",
       "      <td>9.000000e+05</td>\n",
       "      <td>5.000000</td>\n",
       "      <td>0.000000</td>\n",
       "      <td>0.000000</td>\n",
       "    </tr>\n",
       "    <tr>\n",
       "      <th>75%</th>\n",
       "      <td>32.000000</td>\n",
       "      <td>1.250000e+06</td>\n",
       "      <td>6.000000</td>\n",
       "      <td>1.000000</td>\n",
       "      <td>1.000000</td>\n",
       "    </tr>\n",
       "    <tr>\n",
       "      <th>max</th>\n",
       "      <td>35.000000</td>\n",
       "      <td>1.800000e+06</td>\n",
       "      <td>9.000000</td>\n",
       "      <td>1.000000</td>\n",
       "      <td>1.000000</td>\n",
       "    </tr>\n",
       "  </tbody>\n",
       "</table>\n",
       "</div>"
      ],
      "text/plain": [
       "               Age  AnnualIncome  FamilyMembers  ChronicDiseases  \\\n",
       "count  1987.000000  1.987000e+03    1987.000000      1987.000000   \n",
       "mean     29.650226  9.327630e+05       4.752894         0.277806   \n",
       "std       2.913308  3.768557e+05       1.609650         0.448030   \n",
       "min      25.000000  3.000000e+05       2.000000         0.000000   \n",
       "25%      28.000000  6.000000e+05       4.000000         0.000000   \n",
       "50%      29.000000  9.000000e+05       5.000000         0.000000   \n",
       "75%      32.000000  1.250000e+06       6.000000         1.000000   \n",
       "max      35.000000  1.800000e+06       9.000000         1.000000   \n",
       "\n",
       "       TravelInsurance  \n",
       "count      1987.000000  \n",
       "mean          0.357323  \n",
       "std           0.479332  \n",
       "min           0.000000  \n",
       "25%           0.000000  \n",
       "50%           0.000000  \n",
       "75%           1.000000  \n",
       "max           1.000000  "
      ]
     },
     "execution_count": 6,
     "metadata": {},
     "output_type": "execute_result"
    }
   ],
   "source": [
    "df.describe()"
   ]
  },
  {
   "cell_type": "code",
   "execution_count": 24,
   "id": "711f9b09",
   "metadata": {},
   "outputs": [
    {
     "data": {
      "text/plain": [
       "710"
      ]
     },
     "execution_count": 24,
     "metadata": {},
     "output_type": "execute_result"
    }
   ],
   "source": [
    "buy_count=df['TravelInsurance'].sum()\n",
    "buy_count"
   ]
  },
  {
   "cell_type": "code",
   "execution_count": 27,
   "id": "7aaeef63",
   "metadata": {},
   "outputs": [
    {
     "data": {
      "text/plain": [
       "0.6426774031202818"
      ]
     },
     "execution_count": 27,
     "metadata": {},
     "output_type": "execute_result"
    }
   ],
   "source": [
    "buy_per=1-buy_count/1987\n",
    "buy_per"
   ]
  },
  {
   "cell_type": "markdown",
   "id": "e457be1e",
   "metadata": {},
   "source": [
    "- There are 1987 pieces of customers' data.64% of them bought the insurance.\n"
   ]
  },
  {
   "cell_type": "markdown",
   "id": "5a1823ec",
   "metadata": {},
   "source": [
    "## Did customer's age infulence consumer behavior?"
   ]
  },
  {
   "cell_type": "code",
   "execution_count": 7,
   "id": "2cfd4e3e",
   "metadata": {},
   "outputs": [
    {
     "data": {
      "text/plain": [
       "array([31, 34, 28, 25, 33, 26, 32, 29, 35, 30, 27], dtype=int64)"
      ]
     },
     "execution_count": 7,
     "metadata": {},
     "output_type": "execute_result"
    }
   ],
   "source": [
    "df['Age'].unique()"
   ]
  },
  {
   "cell_type": "markdown",
   "id": "7d16c2bd",
   "metadata": {},
   "source": [
    "\n",
    "**Assumption: The insurance attracts people aged 25 to 35.**"
   ]
  },
  {
   "cell_type": "code",
   "execution_count": 8,
   "id": "09b2f760",
   "metadata": {},
   "outputs": [
    {
     "data": {
      "text/plain": [
       "Text(0.5, 1.0, 'Age Distribution')"
      ]
     },
     "execution_count": 8,
     "metadata": {},
     "output_type": "execute_result"
    },
    {
     "data": {
      "image/png": "[encoded data removed]",
      "text/plain": [
       "<Figure size 720x576 with 1 Axes>"
      ]
     },
     "metadata": {
      "needs_background": "light"
     },
     "output_type": "display_data"
    }
   ],
   "source": [
    "fig = plt.figure(figsize=(10,8))  \n",
    "plt.hist(df['Age'],  density=False,color='#b66a50',alpha=0.5)\n",
    "plt.xlabel('Age')\n",
    "plt.ylabel('Counts')\n",
    "plt.title(\"Age Distribution\") "
   ]
  },
  {
   "cell_type": "code",
   "execution_count": 7,
   "id": "c34229e2",
   "metadata": {},
   "outputs": [],
   "source": [
    "buy=df[df['TravelInsurance']==1]\n",
    "not_buy=df[df['TravelInsurance']==0]"
   ]
  },
  {
   "cell_type": "code",
   "execution_count": 47,
   "id": "4939f9f7",
   "metadata": {},
   "outputs": [
    {
     "data": {
      "image/png": "[encoded data removed]",
      "text/plain": [
       "<Figure size 720x576 with 1 Axes>"
      ]
     },
     "metadata": {
      "needs_background": "light"
     },
     "output_type": "display_data"
    }
   ],
   "source": [
    "fig = plt.figure(figsize=(10,8))  \n",
    "plt.hist(buy['Age'], color='#B8860B',alpha=0.5)\n",
    "plt.hist(not_buy['Age'], color='#b66a50',alpha=0.5)\n",
    "plt.xlabel('Age')\n",
    "plt.ylabel('Counts')\n",
    "plt.legend(['Age distribution for consumers who bought the insurance',\"Age distribution for consumers who didn't buy the insurance\"])\n",
    "plt.title(\"Age Distribution Difference\")  \n",
    "plt.show() \n"
   ]
  },
  {
   "cell_type": "code",
   "execution_count": 71,
   "id": "63b45103",
   "metadata": {},
   "outputs": [
    {
     "data": {
      "image/png": "[encoded data removed]",
      "text/plain": [
       "<Figure size 720x576 with 1 Axes>"
      ]
     },
     "metadata": {
      "needs_background": "light"
     },
     "output_type": "display_data"
    }
   ],
   "source": [
    "fig = plt.figure(figsize=(10,8))  \n",
    "sns.boxplot(y='Age',x='TravelInsurance',data=df,palette=sns.color_palette(\"rocket_r\"))\n",
    "plt.legend(['Age for consumers who did not buy the insurance',\"Age for consumers who bought the insurance\"],loc='upper right')\n",
    "plt.title(\"Age Box Plot\")  \n",
    "plt.show()"
   ]
  },
  {
   "cell_type": "markdown",
   "id": "da07c49b",
   "metadata": {},
   "source": [
    "- The boxplot shows that, compared with the age range for consumers who did not buy insurances, the age range for consumers who bought the insurance was wider.\n",
    "- The median age for consumers who bought the insurance was higher than the mdeian age for consumers who did not,"
   ]
  },
  {
   "cell_type": "code",
   "execution_count": 74,
   "id": "b99e0f1f",
   "metadata": {},
   "outputs": [
    {
     "data": {
      "text/plain": [
       "Ttest_indResult(statistic=2.554217515314082, pvalue=0.010764311885970662)"
      ]
     },
     "execution_count": 74,
     "metadata": {},
     "output_type": "execute_result"
    }
   ],
   "source": [
    " \n",
    "ttest_ind(buy['Age'], not_buy['Age'], equal_var = False)"
   ]
  },
  {
   "cell_type": "markdown",
   "id": "4f2a750e",
   "metadata": {},
   "source": [
    "- We are 95% confident that there is a difference between the mean age for consumers who bought the insurance and who did not."
   ]
  },
  {
   "cell_type": "code",
   "execution_count": 44,
   "id": "165e30d3",
   "metadata": {},
   "outputs": [
    {
     "data": {
      "text/plain": [
       "29.888732394366198"
      ]
     },
     "execution_count": 44,
     "metadata": {},
     "output_type": "execute_result"
    }
   ],
   "source": [
    "buy['Age'].mean()"
   ]
  },
  {
   "cell_type": "code",
   "execution_count": 45,
   "id": "d4c008b3",
   "metadata": {},
   "outputs": [
    {
     "data": {
      "text/plain": [
       "29.517619420516837"
      ]
     },
     "execution_count": 45,
     "metadata": {},
     "output_type": "execute_result"
    }
   ],
   "source": [
    "not_buy['Age'].mean()"
   ]
  },
  {
   "cell_type": "markdown",
   "id": "e907dea4",
   "metadata": {},
   "source": [
    "- Although the t-test shows that there is a difference between mean age for consumers who bought the insurance and who did not, it is still hard to conclude that age make a difference as the mean difference was small(29.88-29.52=0.36), and they can both be rounded to be 30 as they are age.\n",
    "\n",
    "**The analysis shows that it seems that customer behavior has nothing to do with age. However, whether the mixture of age and other factors will lead to changes in customer behavior still needs to be studied.**"
   ]
  },
  {
   "cell_type": "markdown",
   "id": "2c6a35f4",
   "metadata": {},
   "source": [
    "## Did employment type influence consumer buying behavior?"
   ]
  },
  {
   "cell_type": "code",
   "execution_count": 49,
   "id": "faf74eae",
   "metadata": {},
   "outputs": [
    {
     "data": {
      "text/plain": [
       "array(['Government Sector', 'Private Sector/Self Employed'], dtype=object)"
      ]
     },
     "execution_count": 49,
     "metadata": {},
     "output_type": "execute_result"
    }
   ],
   "source": [
    "df['Employment Type'].unique()"
   ]
  },
  {
   "cell_type": "markdown",
   "id": "afecf017",
   "metadata": {},
   "source": [
    "- Two employment types: Government Sector and Private Sector/Self Employed"
   ]
  },
  {
   "cell_type": "code",
   "execution_count": 50,
   "id": "ac391b14",
   "metadata": {},
   "outputs": [],
   "source": [
    "gov=df[df['Employment Type']=='Government Sector']\n",
    "pri=df[df['Employment Type']=='Private Sector/Self Employed']"
   ]
  },
  {
   "cell_type": "code",
   "execution_count": 54,
   "id": "8c9ea3e3",
   "metadata": {},
   "outputs": [
    {
     "data": {
      "text/plain": [
       "24.561403508771928"
      ]
     },
     "execution_count": 54,
     "metadata": {},
     "output_type": "execute_result"
    }
   ],
   "source": [
    "per_buy_gov=gov['TravelInsurance'].mean()*100\n",
    "per_buy_gov"
   ]
  },
  {
   "cell_type": "code",
   "execution_count": 55,
   "id": "6d01d9e0",
   "metadata": {},
   "outputs": [
    {
     "data": {
      "text/plain": [
       "40.22582921665491"
      ]
     },
     "execution_count": 55,
     "metadata": {},
     "output_type": "execute_result"
    }
   ],
   "source": [
    "per_buy_pri=pri['TravelInsurance'].mean()*100\n",
    "per_buy_pri"
   ]
  },
  {
   "cell_type": "code",
   "execution_count": 56,
   "id": "b81a6601",
   "metadata": {},
   "outputs": [],
   "source": [
    "per=[per_buy_gov,per_buy_pri]"
   ]
  },
  {
   "cell_type": "code",
   "execution_count": 57,
   "id": "05846285",
   "metadata": {},
   "outputs": [
    {
     "data": {
      "text/html": [
       "<div>\n",
       "<style scoped>\n",
       "    .dataframe tbody tr th:only-of-type {\n",
       "        vertical-align: middle;\n",
       "    }\n",
       "\n",
       "    .dataframe tbody tr th {\n",
       "        vertical-align: top;\n",
       "    }\n",
       "\n",
       "    .dataframe thead th {\n",
       "        text-align: right;\n",
       "    }\n",
       "</style>\n",
       "<table border=\"1\" class=\"dataframe\">\n",
       "  <thead>\n",
       "    <tr style=\"text-align: right;\">\n",
       "      <th></th>\n",
       "      <th>Employment Type</th>\n",
       "      <th>% of insurance bought</th>\n",
       "    </tr>\n",
       "  </thead>\n",
       "  <tbody>\n",
       "    <tr>\n",
       "      <th>0</th>\n",
       "      <td>Government Sector</td>\n",
       "      <td>24.561404</td>\n",
       "    </tr>\n",
       "    <tr>\n",
       "      <th>1</th>\n",
       "      <td>Private Sector/Self Employed</td>\n",
       "      <td>40.225829</td>\n",
       "    </tr>\n",
       "  </tbody>\n",
       "</table>\n",
       "</div>"
      ],
      "text/plain": [
       "                Employment Type  % of insurance bought\n",
       "0             Government Sector              24.561404\n",
       "1  Private Sector/Self Employed              40.225829"
      ]
     },
     "execution_count": 57,
     "metadata": {},
     "output_type": "execute_result"
    }
   ],
   "source": [
    "insurance_groupby_employment= {'Employment Type': ['Government Sector', 'Private Sector/Self Employed'],\n",
    "        '% of insurance bought': per\n",
    "       }\n",
    "insurance_groupby_employment= pd.DataFrame(insurance_groupby_employment)\n",
    "insurance_groupby_employment"
   ]
  },
  {
   "cell_type": "code",
   "execution_count": 58,
   "id": "38a3f21a",
   "metadata": {},
   "outputs": [
    {
     "data": {
      "text/plain": [
       "Text(0.5, 1.0, '% of insurance bought group by Employment Type')"
      ]
     },
     "execution_count": 58,
     "metadata": {},
     "output_type": "execute_result"
    },
    {
     "data": {
      "image/png": "[encoded data removed]",
      "text/plain": [
       "<Figure size 720x576 with 1 Axes>"
      ]
     },
     "metadata": {
      "needs_background": "light"
     },
     "output_type": "display_data"
    }
   ],
   "source": [
    "fig = plt.figure(figsize=(10,8))  \n",
    "color=['#B8860B','#b66a50']\n",
    "plt.bar(insurance_groupby_employment['Employment Type'], insurance_groupby_employment['% of insurance bought'],color=color)\n",
    "plt.title(\"% of insurance bought group by Employment Type\")  "
   ]
  },
  {
   "cell_type": "markdown",
   "id": "7fe3fb10",
   "metadata": {},
   "source": [
    "- It seems that for consumers from Private Sector/Self Employed, there was a higher probability for them to buy the insurance."
   ]
  },
  {
   "cell_type": "code",
   "execution_count": 59,
   "id": "6a369fbd",
   "metadata": {},
   "outputs": [
    {
     "data": {
      "text/plain": [
       "Ttest_indResult(statistic=-7.037476953442845, pvalue=3.30168328082835e-12)"
      ]
     },
     "execution_count": 59,
     "metadata": {},
     "output_type": "execute_result"
    }
   ],
   "source": [
    "ttest_ind(gov['TravelInsurance'], pri['TravelInsurance'], equal_var = False)"
   ]
  },
  {
   "cell_type": "markdown",
   "id": "569fc742",
   "metadata": {},
   "source": [
    "- Statistic test shows that there is a difference in expected buying probability between consumers from government sector and private sector/self employed.\n",
    "\n",
    "**Employment type makes a difference**"
   ]
  },
  {
   "cell_type": "markdown",
   "id": "57e05f58",
   "metadata": {},
   "source": [
    "## Did education level influence consumer behavior?"
   ]
  },
  {
   "cell_type": "code",
   "execution_count": 60,
   "id": "990c11fe",
   "metadata": {},
   "outputs": [
    {
     "data": {
      "text/plain": [
       "array(['Yes', 'No'], dtype=object)"
      ]
     },
     "execution_count": 60,
     "metadata": {},
     "output_type": "execute_result"
    }
   ],
   "source": [
    "df['GraduateOrNot'].unique()"
   ]
  },
  {
   "cell_type": "code",
   "execution_count": 62,
   "id": "5dd91f1e",
   "metadata": {},
   "outputs": [],
   "source": [
    "graduate=df[df['GraduateOrNot']=='Yes']\n",
    "no_graduate=df[df['GraduateOrNot']=='No']"
   ]
  },
  {
   "cell_type": "code",
   "execution_count": 66,
   "id": "b544ffb4",
   "metadata": {},
   "outputs": [
    {
     "data": {
      "text/plain": [
       "36.11111111111111"
      ]
     },
     "execution_count": 66,
     "metadata": {},
     "output_type": "execute_result"
    }
   ],
   "source": [
    "per_buy_gra=graduate['TravelInsurance'].mean()*100\n",
    "per_buy_gra"
   ]
  },
  {
   "cell_type": "code",
   "execution_count": 73,
   "id": "68e8f1de",
   "metadata": {},
   "outputs": [
    {
     "data": {
      "text/plain": [
       "33.559322033898304"
      ]
     },
     "execution_count": 73,
     "metadata": {},
     "output_type": "execute_result"
    }
   ],
   "source": [
    "buy_no_gra=no_graduate['TravelInsurance'].mean()*100\n",
    "buy_no_gra"
   ]
  },
  {
   "cell_type": "code",
   "execution_count": 67,
   "id": "96fc1d66",
   "metadata": {
    "scrolled": true
   },
   "outputs": [
    {
     "data": {
      "text/html": [
       "<div>\n",
       "<style scoped>\n",
       "    .dataframe tbody tr th:only-of-type {\n",
       "        vertical-align: middle;\n",
       "    }\n",
       "\n",
       "    .dataframe tbody tr th {\n",
       "        vertical-align: top;\n",
       "    }\n",
       "\n",
       "    .dataframe thead th {\n",
       "        text-align: right;\n",
       "    }\n",
       "</style>\n",
       "<table border=\"1\" class=\"dataframe\">\n",
       "  <thead>\n",
       "    <tr style=\"text-align: right;\">\n",
       "      <th></th>\n",
       "      <th>GraduateOrNot</th>\n",
       "      <th>% of insurance bought</th>\n",
       "    </tr>\n",
       "  </thead>\n",
       "  <tbody>\n",
       "    <tr>\n",
       "      <th>0</th>\n",
       "      <td>Yes</td>\n",
       "      <td>36.111111</td>\n",
       "    </tr>\n",
       "    <tr>\n",
       "      <th>1</th>\n",
       "      <td>No</td>\n",
       "      <td>33.559322</td>\n",
       "    </tr>\n",
       "  </tbody>\n",
       "</table>\n",
       "</div>"
      ],
      "text/plain": [
       "  GraduateOrNot  % of insurance bought\n",
       "0           Yes              36.111111\n",
       "1            No              33.559322"
      ]
     },
     "execution_count": 67,
     "metadata": {},
     "output_type": "execute_result"
    }
   ],
   "source": [
    "insurance_groupby_edu= {'GraduateOrNot': ['Yes', 'No'],\n",
    "        '% of insurance bought': [per_buy_gra,per_buy_no_gra]\n",
    "       }\n",
    "insurance_groupby_edu= pd.DataFrame(insurance_groupby_edu)\n",
    "insurance_groupby_edu"
   ]
  },
  {
   "cell_type": "code",
   "execution_count": 68,
   "id": "1a2e72ed",
   "metadata": {},
   "outputs": [
    {
     "data": {
      "text/plain": [
       "Text(0.5, 1.0, '% of insurance bought group by graduate or not')"
      ]
     },
     "execution_count": 68,
     "metadata": {},
     "output_type": "execute_result"
    },
    {
     "data": {
      "image/png": "[encoded data removed]",
      "text/plain": [
       "<Figure size 720x576 with 1 Axes>"
      ]
     },
     "metadata": {
      "needs_background": "light"
     },
     "output_type": "display_data"
    }
   ],
   "source": [
    "fig = plt.figure(figsize=(10,8))  \n",
    "color=['#B8860B','#b66a50']\n",
    "plt.bar(insurance_groupby_edu['GraduateOrNot'], insurance_groupby_edu['% of insurance bought'],color=color)\n",
    "plt.title(\"% of insurance bought group by graduate or not\")  "
   ]
  },
  {
   "cell_type": "code",
   "execution_count": 102,
   "id": "b56addc1",
   "metadata": {},
   "outputs": [
    {
     "data": {
      "image/png": "[encoded data removed]",
      "text/plain": [
       "<Figure size 720x576 with 1 Axes>"
      ]
     },
     "metadata": {
      "needs_background": "light"
     },
     "output_type": "display_data"
    }
   ],
   "source": [
    "fig = plt.figure(figsize=(10,8))  \n",
    "sns.boxplot(x='GraduateOrNot',y='Age',hue='TravelInsurance',data=df,palette=sns.color_palette(\"rocket_r\"))\n",
    "plt.legend(['Age for consumers who did not buy the insurance',\"Age for consumers who bought the insurance\"],loc='upper right')\n",
    "plt.title(\"Age Box Plot group by graduate ot not\")  \n",
    "plt.show()"
   ]
  },
  {
   "cell_type": "code",
   "execution_count": 103,
   "id": "702e272a",
   "metadata": {},
   "outputs": [
    {
     "data": {
      "image/png": "[encoded data removed]",
      "text/plain": [
       "<Figure size 720x576 with 1 Axes>"
      ]
     },
     "metadata": {
      "needs_background": "light"
     },
     "output_type": "display_data"
    }
   ],
   "source": [
    "fig = plt.figure(figsize=(10,8))  \n",
    "sns.boxplot(y='AnnualIncome',x='GraduateOrNot',hue='TravelInsurance',data=df,palette=sns.color_palette(\"rocket_r\"))\n",
    "plt.legend(['AnnualIncome for consumers who did not buy the insurance',\"AnnualIncome for consumers who bought the insurance\"],loc='upper right')\n",
    "plt.title(\"AnnualIncome Box Plot group by graduate ot not\")  \n",
    "plt.show()"
   ]
  },
  {
   "cell_type": "markdown",
   "id": "3ab08c66",
   "metadata": {},
   "source": [
    "- For each eduation level group, people who purchased the insurance were ussually richer than people who did noy."
   ]
  },
  {
   "cell_type": "code",
   "execution_count": 69,
   "id": "9314b915",
   "metadata": {},
   "outputs": [
    {
     "data": {
      "text/plain": [
       "Ttest_indResult(statistic=0.8530468209614321, pvalue=0.39413506741270277)"
      ]
     },
     "execution_count": 69,
     "metadata": {},
     "output_type": "execute_result"
    }
   ],
   "source": [
    "ttest_ind(graduate['TravelInsurance'], no_graduate['TravelInsurance'], equal_var = False)"
   ]
  },
  {
   "cell_type": "markdown",
   "id": "cee86dc9",
   "metadata": {},
   "source": [
    "- Statistic test shows that there is not a significant difference in expected purchase probability between consumers who graduated from college and who did not."
   ]
  },
  {
   "cell_type": "markdown",
   "id": "c3d297ed",
   "metadata": {},
   "source": [
    "\n",
    "## Did customer's annual income type influence consumer buying behavior?"
   ]
  },
  {
   "cell_type": "code",
   "execution_count": 28,
   "id": "d2d4fda9",
   "metadata": {},
   "outputs": [
    {
     "data": {
      "text/plain": [
       "300000"
      ]
     },
     "execution_count": 28,
     "metadata": {},
     "output_type": "execute_result"
    }
   ],
   "source": [
    "df['AnnualIncome'].min()"
   ]
  },
  {
   "cell_type": "markdown",
   "id": "0e44170e",
   "metadata": {},
   "source": [
    "- \"India’s per capita annual income in 2019-20 was ₹1,26,968, according to provisional estimates published on January 7. This average, given India’s large income inequality, is not representative of the earnings of average Indians.\"\n",
    "(source: https://www.hindustantimes.com/india-news/number-theory-how-much-does-an-average-indian-earn-101610760612856.html)\n",
    "- The top 20% of Indian households earn less than .1 lakh per annum per capita. ($ .1 lakh=1*10^5 $)\\\n",
    "(source: https://www.hindustantimes.com/india-news/number-theory-how-much-does-an-average-indian-earn-101610760612856.html)\n",
    "\n",
    "**The dataset focus on wealth consumers since the mean annual income in this dataset is 300000 Rupees.**\\\n",
    "**Assumption：Target consumers of the insurance are rich people.**"
   ]
  },
  {
   "cell_type": "code",
   "execution_count": 12,
   "id": "f58cd97c",
   "metadata": {},
   "outputs": [
    {
     "data": {
      "text/plain": [
       "Text(0.5, 1.0, 'AnnualIncome Distribution')"
      ]
     },
     "execution_count": 12,
     "metadata": {},
     "output_type": "execute_result"
    },
    {
     "data": {
      "image/png": "[encoded data removed]",
      "text/plain": [
       "<Figure size 720x576 with 1 Axes>"
      ]
     },
     "metadata": {
      "needs_background": "light"
     },
     "output_type": "display_data"
    }
   ],
   "source": [
    "fig = plt.figure(figsize=(10,8))  \n",
    "plt.hist(df['AnnualIncome'],  density=False,color='#b66a50',alpha=0.5)\n",
    "plt.xlabel('AnnualIncome')\n",
    "plt.ylabel('Counts')\n",
    "plt.title(\"AnnualIncome Distribution\") "
   ]
  },
  {
   "cell_type": "code",
   "execution_count": 22,
   "id": "ff940884",
   "metadata": {},
   "outputs": [
    {
     "data": {
      "image/png": "[encoded data removed]",
      "text/plain": [
       "<Figure size 720x576 with 1 Axes>"
      ]
     },
     "metadata": {
      "needs_background": "light"
     },
     "output_type": "display_data"
    }
   ],
   "source": [
    "fig = plt.figure(figsize=(10,8))  \n",
    "plt.hist(buy['AnnualIncome'], color='#B8860B',alpha=0.5)\n",
    "plt.hist(not_buy['AnnualIncome'], color='#b66a50',alpha=0.5)\n",
    "plt.xlabel('AnnualIncome')\n",
    "plt.ylabel('Counts')\n",
    "plt.legend(['AnnualIncome distribution for consumers who bought the insurance',\"AnnualIncome distribution for consumers who didn't buy the insurance\"])\n",
    "plt.title(\"AnnualIncome Distribution Difference\")  \n",
    "plt.show() \n"
   ]
  },
  {
   "cell_type": "markdown",
   "id": "f7ceff1f",
   "metadata": {},
   "source": [
    "- The distribution shows that the income distributions for costumers who bought and did not buy the insurance were different.People with annual income under 1.3M Rupees usually tend not to buy the insurance."
   ]
  },
  {
   "cell_type": "code",
   "execution_count": 15,
   "id": "9dd7a7ab",
   "metadata": {},
   "outputs": [
    {
     "data": {
      "image/png": "[encoded data removed]",
      "text/plain": [
       "<Figure size 720x576 with 1 Axes>"
      ]
     },
     "metadata": {
      "needs_background": "light"
     },
     "output_type": "display_data"
    }
   ],
   "source": [
    "fig = plt.figure(figsize=(10,8))  \n",
    "sns.boxplot(y='AnnualIncome',x='TravelInsurance',data=df,palette=sns.color_palette(\"rocket_r\"))\n",
    "plt.legend(['AnnualIncome for consumers who did not buy the insurance',\"AnnualIncome for consumers who bought the insurance\"],loc='upper right')\n",
    "plt.title(\"AnnualIncome Box Plot\")  \n",
    "plt.show()"
   ]
  },
  {
   "cell_type": "markdown",
   "id": "7661c4c2",
   "metadata": {},
   "source": [
    "- Consumers who bought the insurance tend to have a higher annual income than consumers who did not."
   ]
  },
  {
   "cell_type": "code",
   "execution_count": 20,
   "id": "9e646066",
   "metadata": {},
   "outputs": [
    {
     "data": {
      "image/png": "[encoded data removed]",
      "text/plain": [
       "<Figure size 720x576 with 1 Axes>"
      ]
     },
     "metadata": {
      "needs_background": "light"
     },
     "output_type": "display_data"
    }
   ],
   "source": [
    "fig = plt.figure(figsize=(10,8))  \n",
    "sns.boxplot(y='AnnualIncome',x='Age',hue='TravelInsurance',data=df,palette=sns.color_palette(\"rocket_r\"))\n",
    "plt.legend(['AnnualIncome for consumers who did not buy the insurance',\"AnnualIncome for consumers who bought the insurance\"],loc='upper right')\n",
    "plt.title(\"AnnualIncome Box Plot\")  \n",
    "plt.show()"
   ]
  },
  {
   "cell_type": "markdown",
   "id": "d4af6e1c",
   "metadata": {},
   "source": [
    "- For each age group, consumers who bought the insurance tend to have a higher annual income than consumers who did not."
   ]
  },
  {
   "cell_type": "code",
   "execution_count": 37,
   "id": "7120c5c3",
   "metadata": {},
   "outputs": [
    {
     "data": {
      "text/plain": [
       "Ttest_indResult(statistic=18.55569596185316, pvalue=1.9420036604755432e-68)"
      ]
     },
     "execution_count": 37,
     "metadata": {},
     "output_type": "execute_result"
    }
   ],
   "source": [
    "ttest_ind(buy['AnnualIncome'], not_buy['AnnualIncome'], equal_var = False)"
   ]
  },
  {
   "cell_type": "markdown",
   "id": "748fe1a7",
   "metadata": {},
   "source": [
    "- Statistics test shows that we are 95% confident that there is a difference between the mean annual income for consumers who bought the insurance and who did not.\n",
    "\n",
    "**Annual income makes a great difference! This insurance attracts relatively wealth people.**"
   ]
  },
  {
   "cell_type": "markdown",
   "id": "75239548",
   "metadata": {},
   "source": [
    "## Did the size of a family influence consumer behavior?"
   ]
  },
  {
   "cell_type": "code",
   "execution_count": 30,
   "id": "1ffb729f",
   "metadata": {},
   "outputs": [
    {
     "data": {
      "text/plain": [
       "array([6, 7, 4, 3, 8, 9, 5, 2], dtype=int64)"
      ]
     },
     "execution_count": 30,
     "metadata": {},
     "output_type": "execute_result"
    }
   ],
   "source": [
    "df['FamilyMembers'].unique()"
   ]
  },
  {
   "cell_type": "markdown",
   "id": "8ad4d786",
   "metadata": {},
   "source": [
    "**The dataset does not include single people data.**\\\n",
    "**Assumption：Singles are not the target customers of this insurance.**"
   ]
  },
  {
   "cell_type": "code",
   "execution_count": 32,
   "id": "7eb87b75",
   "metadata": {},
   "outputs": [
    {
     "data": {
      "text/plain": [
       "Text(0.5, 1.0, 'FamilyMembers Distribution')"
      ]
     },
     "execution_count": 32,
     "metadata": {},
     "output_type": "execute_result"
    },
    {
     "data": {
      "image/png": "[encoded data removed]",
      "text/plain": [
       "<Figure size 720x576 with 1 Axes>"
      ]
     },
     "metadata": {
      "needs_background": "light"
     },
     "output_type": "display_data"
    }
   ],
   "source": [
    "fig = plt.figure(figsize=(10,8))  \n",
    "plt.hist(df['FamilyMembers'],  density=False,color='#b66a50',alpha=0.5)\n",
    "plt.xlabel('FamilyMembers')\n",
    "plt.ylabel('Counts')\n",
    "plt.title(\"FamilyMembers Distribution\") "
   ]
  },
  {
   "cell_type": "code",
   "execution_count": 33,
   "id": "e80d4c88",
   "metadata": {},
   "outputs": [
    {
     "data": {
      "image/png": "[encoded data removed]",
      "text/plain": [
       "<Figure size 720x576 with 1 Axes>"
      ]
     },
     "metadata": {
      "needs_background": "light"
     },
     "output_type": "display_data"
    }
   ],
   "source": [
    "fig = plt.figure(figsize=(10,8))  \n",
    "plt.hist(buy['FamilyMembers'], color='#B8860B',alpha=0.5)\n",
    "plt.hist(not_buy['FamilyMembers'], color='#b66a50',alpha=0.5)\n",
    "plt.xlabel('FamilyMembers')\n",
    "plt.ylabel('Counts')\n",
    "plt.legend(['FamilyMembers distribution for consumers who bought the insurance',\"FamilyMembers distribution for consumers who didn't buy the insurance\"])\n",
    "plt.title(\"FamilyMembers Distribution Difference\")  \n",
    "plt.show() "
   ]
  },
  {
   "cell_type": "markdown",
   "id": "4d2682a2",
   "metadata": {},
   "source": [
    "- Number of consumers who bought this insurance was higher than number of consumers who did not."
   ]
  },
  {
   "cell_type": "code",
   "execution_count": 35,
   "id": "1bf39575",
   "metadata": {},
   "outputs": [
    {
     "data": {
      "image/png": "[encoded data removed]",
      "text/plain": [
       "<Figure size 720x576 with 1 Axes>"
      ]
     },
     "metadata": {
      "needs_background": "light"
     },
     "output_type": "display_data"
    }
   ],
   "source": [
    "fig = plt.figure(figsize=(10,8))  \n",
    "sns.boxplot(y='FamilyMembers',x='TravelInsurance',data=df,palette=sns.color_palette(\"rocket_r\"))\n",
    "plt.legend(['FamilyMembers for consumers who did not buy the insurance',\"FamilyMembers for consumers who bought the insurance\"],loc='upper right')\n",
    "plt.title(\"FamilyMembers Box Plot\")  \n",
    "plt.show()"
   ]
  },
  {
   "cell_type": "code",
   "execution_count": 42,
   "id": "b4c56611",
   "metadata": {},
   "outputs": [
    {
     "data": {
      "image/png": "[encoded data removed]",
      "text/plain": [
       "<Figure size 720x576 with 1 Axes>"
      ]
     },
     "metadata": {
      "needs_background": "light"
     },
     "output_type": "display_data"
    }
   ],
   "source": [
    "fig = plt.figure(figsize=(10,8))  \n",
    "sns.boxplot(y='FamilyMembers',x='Age',hue='TravelInsurance',data=df,palette=sns.color_palette(\"rocket_r\"))\n",
    "plt.legend(['FamilyMembers for consumers who did not buy the insurance',\"FamilyMembers for consumers who bought the insurance\"],loc='upper right')\n",
    "plt.title(\"FamilyMembers for different age group Box Plot\")  \n",
    "plt.show()"
   ]
  },
  {
   "cell_type": "code",
   "execution_count": 7,
   "id": "9e7d4a99",
   "metadata": {},
   "outputs": [
    {
     "data": {
      "image/png": "[encoded data removed]",
      "text/plain": [
       "<Figure size 1296x576 with 1 Axes>"
      ]
     },
     "metadata": {
      "needs_background": "light"
     },
     "output_type": "display_data"
    }
   ],
   "source": [
    "fig = plt.figure(figsize=(18,8))  \n",
    "sns.boxplot(y='FamilyMembers',x='AnnualIncome',hue='TravelInsurance',data=df,palette=sns.color_palette(\"rocket_r\"))\n",
    "plt.legend(['FamilyMembers for consumers who did not buy the insurance',\"FamilyMembers for consumers who bought the insurance\"],loc='upper right')\n",
    "plt.title(\"FamilyMembers for different income group Box Plot\")  \n",
    "plt.show()"
   ]
  },
  {
   "cell_type": "markdown",
   "id": "39142742",
   "metadata": {},
   "source": [
    "- Hard to find patterns from the above 2 boxplots."
   ]
  },
  {
   "cell_type": "code",
   "execution_count": 40,
   "id": "aa4e6ad9",
   "metadata": {},
   "outputs": [
    {
     "data": {
      "text/plain": [
       "Ttest_indResult(statistic=3.499665212291613, pvalue=0.00048067593805248895)"
      ]
     },
     "execution_count": 40,
     "metadata": {},
     "output_type": "execute_result"
    }
   ],
   "source": [
    "ttest_ind(buy['FamilyMembers'], not_buy['FamilyMembers'], equal_var = False)"
   ]
  },
  {
   "cell_type": "code",
   "execution_count": 38,
   "id": "c1531bf4",
   "metadata": {},
   "outputs": [
    {
     "data": {
      "text/plain": [
       "4.925352112676056"
      ]
     },
     "execution_count": 38,
     "metadata": {},
     "output_type": "execute_result"
    }
   ],
   "source": [
    "buy['FamilyMembers'].mean()"
   ]
  },
  {
   "cell_type": "code",
   "execution_count": 39,
   "id": "2ab0376d",
   "metadata": {},
   "outputs": [
    {
     "data": {
      "text/plain": [
       "4.6570086139389195"
      ]
     },
     "execution_count": 39,
     "metadata": {},
     "output_type": "execute_result"
    }
   ],
   "source": [
    "not_buy['FamilyMembers'].mean()"
   ]
  },
  {
   "cell_type": "markdown",
   "id": "91505a5b",
   "metadata": {},
   "source": [
    "- Statistics test shows that we are 95% confident that there is a difference between the family size for consumers who bought the insurance and who did not.However, the mean difference was small(4.93-4.66=0.27), and both can be rounded to 5 as the they are family size.->Difference can be ignored.\n",
    "- The distribution and boxplot shows no difference in family size for consumers who bought the insurance and who did not.\n",
    "\n",
    "\n",
    "**It is hard to tell whether family size influenced consumer buying behavior.**"
   ]
  },
  {
   "cell_type": "markdown",
   "id": "4b5b6bf1",
   "metadata": {},
   "source": [
    "## Did Chronic Diseases influence consumers' behavior?"
   ]
  },
  {
   "cell_type": "code",
   "execution_count": 12,
   "id": "567c5c62",
   "metadata": {},
   "outputs": [],
   "source": [
    "has_chronic=df[df['ChronicDiseases']==1]\n",
    "no_chronic=df[df['ChronicDiseases']==0]"
   ]
  },
  {
   "cell_type": "code",
   "execution_count": 81,
   "id": "182e39d5",
   "metadata": {},
   "outputs": [
    {
     "data": {
      "text/plain": [
       "37.13768115942029"
      ]
     },
     "execution_count": 81,
     "metadata": {},
     "output_type": "execute_result"
    }
   ],
   "source": [
    "buy_percent_disease=has_chronic['TravelInsurance'].mean()*100\n",
    "buy_percent_disease"
   ]
  },
  {
   "cell_type": "code",
   "execution_count": 82,
   "id": "36439f41",
   "metadata": {},
   "outputs": [
    {
     "data": {
      "text/plain": [
       "35.19163763066202"
      ]
     },
     "execution_count": 82,
     "metadata": {},
     "output_type": "execute_result"
    }
   ],
   "source": [
    "buy_percent_no_disease=no_chronic['TravelInsurance'].mean()*100\n",
    "buy_percent_no_disease"
   ]
  },
  {
   "cell_type": "code",
   "execution_count": 35,
   "id": "61bbf9d3",
   "metadata": {},
   "outputs": [],
   "source": [
    "data=[buy_percent_disease,buy_percent_no_disease]"
   ]
  },
  {
   "cell_type": "code",
   "execution_count": 36,
   "id": "617b010b",
   "metadata": {},
   "outputs": [
    {
     "data": {
      "text/plain": [
       "[37.13768115942029, 35.19163763066202]"
      ]
     },
     "execution_count": 36,
     "metadata": {},
     "output_type": "execute_result"
    }
   ],
   "source": [
    "data"
   ]
  },
  {
   "cell_type": "code",
   "execution_count": 40,
   "id": "94598c8c",
   "metadata": {},
   "outputs": [],
   "source": [
    "insurance_groupby_disease= {'health condition': ['suffer from disease', 'health'],\n",
    "        '% of insurance bought': data\n",
    "       }\n",
    "insurance_groupby_disease = pd.DataFrame(insurance_groupby_disease)"
   ]
  },
  {
   "cell_type": "code",
   "execution_count": 41,
   "id": "52e1594a",
   "metadata": {},
   "outputs": [
    {
     "data": {
      "text/html": [
       "<div>\n",
       "<style scoped>\n",
       "    .dataframe tbody tr th:only-of-type {\n",
       "        vertical-align: middle;\n",
       "    }\n",
       "\n",
       "    .dataframe tbody tr th {\n",
       "        vertical-align: top;\n",
       "    }\n",
       "\n",
       "    .dataframe thead th {\n",
       "        text-align: right;\n",
       "    }\n",
       "</style>\n",
       "<table border=\"1\" class=\"dataframe\">\n",
       "  <thead>\n",
       "    <tr style=\"text-align: right;\">\n",
       "      <th></th>\n",
       "      <th>health condition</th>\n",
       "      <th>% of insurance bought</th>\n",
       "    </tr>\n",
       "  </thead>\n",
       "  <tbody>\n",
       "    <tr>\n",
       "      <th>0</th>\n",
       "      <td>suffer from disease</td>\n",
       "      <td>37.137681</td>\n",
       "    </tr>\n",
       "    <tr>\n",
       "      <th>1</th>\n",
       "      <td>health</td>\n",
       "      <td>35.191638</td>\n",
       "    </tr>\n",
       "  </tbody>\n",
       "</table>\n",
       "</div>"
      ],
      "text/plain": [
       "      health condition  % of insurance bought\n",
       "0  suffer from disease              37.137681\n",
       "1               health              35.191638"
      ]
     },
     "execution_count": 41,
     "metadata": {},
     "output_type": "execute_result"
    }
   ],
   "source": [
    "insurance_groupby_disease"
   ]
  },
  {
   "cell_type": "code",
   "execution_count": 45,
   "id": "2904b163",
   "metadata": {},
   "outputs": [
    {
     "data": {
      "text/plain": [
       "Text(0.5, 1.0, '% of insurance bought group by chronic diseases')"
      ]
     },
     "execution_count": 45,
     "metadata": {},
     "output_type": "execute_result"
    },
    {
     "data": {
      "image/png": "[encoded data removed]",
      "text/plain": [
       "<Figure size 720x576 with 1 Axes>"
      ]
     },
     "metadata": {
      "needs_background": "light"
     },
     "output_type": "display_data"
    }
   ],
   "source": [
    "fig = plt.figure(figsize=(10,8))  \n",
    "color=['#B8860B','#b66a50']\n",
    "plt.bar(insurance_groupby_disease['health condition'], insurance_groupby_disease['% of insurance bought'],color=color)\n",
    "plt.title(\"% of insurance bought group by chronic diseases\")  "
   ]
  },
  {
   "cell_type": "markdown",
   "id": "6734f6a2",
   "metadata": {},
   "source": [
    "- For consumers suffering from chronic disease, there was a higher probability that they would buy the insurance.\n",
    "- The difference in the 2 probabilities is small."
   ]
  },
  {
   "cell_type": "code",
   "execution_count": 46,
   "id": "da6f175a",
   "metadata": {},
   "outputs": [
    {
     "data": {
      "text/plain": [
       "Ttest_indResult(statistic=0.8061481518293234, pvalue=0.4203512679132896)"
      ]
     },
     "execution_count": 46,
     "metadata": {},
     "output_type": "execute_result"
    }
   ],
   "source": [
    "ttest_ind(has_chronic['TravelInsurance'], no_chronic['TravelInsurance'], equal_var = False)"
   ]
  },
  {
   "cell_type": "code",
   "execution_count": 47,
   "id": "4d1e6671",
   "metadata": {},
   "outputs": [
    {
     "data": {
      "text/plain": [
       "0.3713768115942029"
      ]
     },
     "execution_count": 47,
     "metadata": {},
     "output_type": "execute_result"
    }
   ],
   "source": [
    "has_chronic['TravelInsurance'].mean()"
   ]
  },
  {
   "cell_type": "code",
   "execution_count": 48,
   "id": "f2e70373",
   "metadata": {},
   "outputs": [
    {
     "data": {
      "text/plain": [
       "0.3519163763066202"
      ]
     },
     "execution_count": 48,
     "metadata": {},
     "output_type": "execute_result"
    }
   ],
   "source": [
    "no_chronic['TravelInsurance'].mean()"
   ]
  },
  {
   "cell_type": "markdown",
   "id": "72f7a7a0",
   "metadata": {},
   "source": [
    "- Statistic test shows that there is not a significant difference in expected purchase probability between consumers who suffered from chronic disease and did not.\n",
    "\n",
    "- Question：Intuitively, people with chronic diseases are more likely to buy this insurance. But why is the insurance purchase rate irrelevant to whether customers have chronic diseases?\n",
    "\n",
    "**It seems that whether or not the consumer had a chronic disease did not influence purchase behavior**"
   ]
  },
  {
   "cell_type": "markdown",
   "id": "c2049262",
   "metadata": {},
   "source": [
    "- Because this insurance involves covid-19 cover, intuitively,I thought it was easier for people with chronic diseases to buy this insurance since covid-19 had a greater impact on people with diseases. However, it has been proved that whether there is chronic disease has nothing to do with whether the insurance will be purchased."
   ]
  },
  {
   "cell_type": "code",
   "execution_count": null,
   "id": "32b003d8",
   "metadata": {},
   "outputs": [],
   "source": []
  },
  {
   "cell_type": "markdown",
   "id": "abf56ab3",
   "metadata": {},
   "source": [
    "## Do travel habits affect customers' decisions?"
   ]
  },
  {
   "cell_type": "code",
   "execution_count": 74,
   "id": "0201d878",
   "metadata": {},
   "outputs": [
    {
     "data": {
      "text/plain": [
       "array(['No', 'Yes'], dtype=object)"
      ]
     },
     "execution_count": 74,
     "metadata": {},
     "output_type": "execute_result"
    }
   ],
   "source": [
    "df['FrequentFlyer'].unique()"
   ]
  },
  {
   "cell_type": "code",
   "execution_count": 75,
   "id": "5603eae8",
   "metadata": {},
   "outputs": [
    {
     "data": {
      "text/plain": [
       "array(['No', 'Yes'], dtype=object)"
      ]
     },
     "execution_count": 75,
     "metadata": {},
     "output_type": "execute_result"
    }
   ],
   "source": [
    "df['EverTravelledAbroad'].unique()"
   ]
  },
  {
   "cell_type": "code",
   "execution_count": 83,
   "id": "013278bd",
   "metadata": {},
   "outputs": [],
   "source": [
    "fre=df[df['FrequentFlyer']=='Yes']\n",
    "no_fre=df[df['FrequentFlyer']=='No']\n",
    "Travel_abroad=df[df['EverTravelledAbroad']=='Yes']\n",
    "no_Travel_abroad=df[df['EverTravelledAbroad']=='No']"
   ]
  },
  {
   "cell_type": "code",
   "execution_count": 84,
   "id": "16b41205",
   "metadata": {},
   "outputs": [
    {
     "data": {
      "text/plain": [
       "0.5731414868105515"
      ]
     },
     "execution_count": 84,
     "metadata": {},
     "output_type": "execute_result"
    }
   ],
   "source": [
    "per_buy_fre=fre['TravelInsurance'].mean()\n",
    "per_buy_fre\n"
   ]
  },
  {
   "cell_type": "code",
   "execution_count": 85,
   "id": "92ed673b",
   "metadata": {},
   "outputs": [
    {
     "data": {
      "text/plain": [
       "0.3"
      ]
     },
     "execution_count": 85,
     "metadata": {},
     "output_type": "execute_result"
    }
   ],
   "source": [
    "per_buy_nofre=no_fre['TravelInsurance'].mean()\n",
    "per_buy_nofre"
   ]
  },
  {
   "cell_type": "code",
   "execution_count": 86,
   "id": "66ffab70",
   "metadata": {},
   "outputs": [
    {
     "data": {
      "text/plain": [
       "0.7842105263157895"
      ]
     },
     "execution_count": 86,
     "metadata": {},
     "output_type": "execute_result"
    }
   ],
   "source": [
    "per_buy_abr=Travel_abroad['TravelInsurance'].mean()\n",
    "per_buy_abr"
   ]
  },
  {
   "cell_type": "code",
   "execution_count": 87,
   "id": "dba931da",
   "metadata": {},
   "outputs": [
    {
     "data": {
      "text/plain": [
       "0.2563783447417548"
      ]
     },
     "execution_count": 87,
     "metadata": {},
     "output_type": "execute_result"
    }
   ],
   "source": [
    "per_buy_noabr=no_Travel_abroad['TravelInsurance'].mean()\n",
    "per_buy_noabr"
   ]
  },
  {
   "cell_type": "code",
   "execution_count": 88,
   "id": "811c4c8b",
   "metadata": {},
   "outputs": [
    {
     "data": {
      "text/html": [
       "<div>\n",
       "<style scoped>\n",
       "    .dataframe tbody tr th:only-of-type {\n",
       "        vertical-align: middle;\n",
       "    }\n",
       "\n",
       "    .dataframe tbody tr th {\n",
       "        vertical-align: top;\n",
       "    }\n",
       "\n",
       "    .dataframe thead th {\n",
       "        text-align: right;\n",
       "    }\n",
       "</style>\n",
       "<table border=\"1\" class=\"dataframe\">\n",
       "  <thead>\n",
       "    <tr style=\"text-align: right;\">\n",
       "      <th></th>\n",
       "      <th>travel pattern</th>\n",
       "      <th>% of insurance bought</th>\n",
       "    </tr>\n",
       "  </thead>\n",
       "  <tbody>\n",
       "    <tr>\n",
       "      <th>0</th>\n",
       "      <td>frequent flyer</td>\n",
       "      <td>0.573141</td>\n",
       "    </tr>\n",
       "    <tr>\n",
       "      <th>1</th>\n",
       "      <td>no frequent flyer</td>\n",
       "      <td>0.300000</td>\n",
       "    </tr>\n",
       "    <tr>\n",
       "      <th>2</th>\n",
       "      <td>travel abroad</td>\n",
       "      <td>0.784211</td>\n",
       "    </tr>\n",
       "    <tr>\n",
       "      <th>3</th>\n",
       "      <td>no travel abroad</td>\n",
       "      <td>0.256378</td>\n",
       "    </tr>\n",
       "  </tbody>\n",
       "</table>\n",
       "</div>"
      ],
      "text/plain": [
       "      travel pattern  % of insurance bought\n",
       "0     frequent flyer               0.573141\n",
       "1  no frequent flyer               0.300000\n",
       "2      travel abroad               0.784211\n",
       "3   no travel abroad               0.256378"
      ]
     },
     "execution_count": 88,
     "metadata": {},
     "output_type": "execute_result"
    }
   ],
   "source": [
    "insurance_groupby_travel_pattern= {'travel pattern': ['frequent flyer','no frequent flyer','travel abroad','no travel abroad'],\n",
    "        '% of insurance bought': [per_buy_fre,per_buy_nofre,per_buy_abr,per_buy_noabr]\n",
    "       }\n",
    "insurance_groupby_travel_pattern = pd.DataFrame(insurance_groupby_travel_pattern)\n",
    "insurance_groupby_travel_pattern"
   ]
  },
  {
   "cell_type": "code",
   "execution_count": 91,
   "id": "ee696b2c",
   "metadata": {},
   "outputs": [
    {
     "data": {
      "text/plain": [
       "Text(0.5, 1.0, '% of insurance bought group by travel pattern')"
      ]
     },
     "execution_count": 91,
     "metadata": {},
     "output_type": "execute_result"
    },
    {
     "data": {
      "image/png": "[encoded data removed]",
      "text/plain": [
       "<Figure size 720x576 with 1 Axes>"
      ]
     },
     "metadata": {
      "needs_background": "light"
     },
     "output_type": "display_data"
    }
   ],
   "source": [
    "fig = plt.figure(figsize=(10,8))  \n",
    "color=['#B8860B','#b66a50','#006400','#556B2F']\n",
    "plt.bar(insurance_groupby_travel_pattern['travel pattern'], insurance_groupby_travel_pattern['% of insurance bought'],color=color)\n",
    "plt.title(\"% of insurance bought group by travel pattern\")  "
   ]
  },
  {
   "cell_type": "code",
   "execution_count": 92,
   "id": "9b1f1ce8",
   "metadata": {},
   "outputs": [
    {
     "data": {
      "text/plain": [
       "Ttest_indResult(statistic=10.165661110766711, pvalue=1.489851136563388e-22)"
      ]
     },
     "execution_count": 92,
     "metadata": {},
     "output_type": "execute_result"
    }
   ],
   "source": [
    "ttest_ind(fre['TravelInsurance'], no_fre['TravelInsurance'], equal_var = False)"
   ]
  },
  {
   "cell_type": "code",
   "execution_count": 93,
   "id": "986afbb0",
   "metadata": {},
   "outputs": [
    {
     "data": {
      "text/plain": [
       "Ttest_indResult(statistic=22.20189289835326, pvalue=4.357756676030003e-80)"
      ]
     },
     "execution_count": 93,
     "metadata": {},
     "output_type": "execute_result"
    }
   ],
   "source": [
    "ttest_ind(Travel_abroad['TravelInsurance'], no_Travel_abroad['TravelInsurance'], equal_var = False)"
   ]
  },
  {
   "cell_type": "markdown",
   "id": "5302251a",
   "metadata": {},
   "source": [
    "- For frequent flyers, there was a higher probability that they would buy the insurance.\n",
    "- For consumers who had abroad travelling experiences, there was a higher probability that they would buy the insurance.\n",
    "\n",
    "- Question: \n",
    "-- There are many kinds of transportation. It is easy to understand that people who fly frequently would buy this insurance， but why was the purchase rate so low for people were not frequent flyers?->Is it because the company's marketing strategy focuses on airline passengers? More data is needed to explain, such as whether the customer were frequent train travellers.\n"
   ]
  },
  {
   "cell_type": "markdown",
   "id": "da25d6c9",
   "metadata": {},
   "source": [
    "# Conclusion"
   ]
  },
  {
   "cell_type": "markdown",
   "id": "ebe1383a",
   "metadata": {},
   "source": [
    "Conclusion: \\\n",
    "Potential Customers--Wealth people aged 25 to 35 from private sector/self employed; usually not single and are frequent flyers and have abroad travelling experience\\\n",
    "Suggestion to improve sales:\n",
    "- Increase the marketing efforts of the above potential customers\n",
    "- More data and details of the insurance are needed.For example, more data and details of the insurance are needed are needed to understand why the purchase rate of people with chronic diseases was not high? Was it because the covid cover service was not well promoted or the insurance itself did not attract patients with chronic diseases? or other reasons..."
   ]
  },
  {
   "cell_type": "markdown",
   "id": "efe06914",
   "metadata": {},
   "source": [
    "# Modeling"
   ]
  },
  {
   "cell_type": "markdown",
   "id": "7bda3560",
   "metadata": {},
   "source": [
    "## data clean"
   ]
  },
  {
   "cell_type": "code",
   "execution_count": 220,
   "id": "699b7c49",
   "metadata": {},
   "outputs": [],
   "source": [
    "def yesno_conversion(x):\n",
    "    new_co=pd.DataFrame(x=='Yes')\n",
    "    new_col=new_co\n",
    "    new_col[x=='Yes']=1\n",
    "    new_col[x=='No']=0\n",
    "\n",
    "    return new_col\n",
    "    "
   ]
  },
  {
   "cell_type": "code",
   "execution_count": 223,
   "id": "3d8ecc1b",
   "metadata": {},
   "outputs": [],
   "source": [
    "def employ_conversion(x):\n",
    "    new_co=pd.DataFrame(x=='Government Sector')\n",
    "    new_col=new_co\n",
    "    new_col[x=='Government Sector']=1\n",
    "    new_col[x=='Private Sector/Self Employed']=0\n",
    "\n",
    "    return new_col"
   ]
  },
  {
   "cell_type": "code",
   "execution_count": 252,
   "id": "490127a5",
   "metadata": {},
   "outputs": [
    {
     "data": {
      "text/html": [
       "<div>\n",
       "<style scoped>\n",
       "    .dataframe tbody tr th:only-of-type {\n",
       "        vertical-align: middle;\n",
       "    }\n",
       "\n",
       "    .dataframe tbody tr th {\n",
       "        vertical-align: top;\n",
       "    }\n",
       "\n",
       "    .dataframe thead th {\n",
       "        text-align: right;\n",
       "    }\n",
       "</style>\n",
       "<table border=\"1\" class=\"dataframe\">\n",
       "  <thead>\n",
       "    <tr style=\"text-align: right;\">\n",
       "      <th></th>\n",
       "      <th>Age</th>\n",
       "      <th>Employment Type</th>\n",
       "      <th>GraduateOrNot</th>\n",
       "      <th>AnnualIncome</th>\n",
       "      <th>FamilyMembers</th>\n",
       "      <th>ChronicDiseases</th>\n",
       "      <th>FrequentFlyer</th>\n",
       "      <th>EverTravelledAbroad</th>\n",
       "      <th>TravelInsurance</th>\n",
       "      <th>GraduateOrNot_D</th>\n",
       "      <th>FrequentFlyer_D</th>\n",
       "      <th>EverTravelledAbroad_D</th>\n",
       "    </tr>\n",
       "  </thead>\n",
       "  <tbody>\n",
       "    <tr>\n",
       "      <th>0</th>\n",
       "      <td>31</td>\n",
       "      <td>Government Sector</td>\n",
       "      <td>Yes</td>\n",
       "      <td>400000</td>\n",
       "      <td>6</td>\n",
       "      <td>1</td>\n",
       "      <td>No</td>\n",
       "      <td>No</td>\n",
       "      <td>0</td>\n",
       "      <td>1</td>\n",
       "      <td>0</td>\n",
       "      <td>0</td>\n",
       "    </tr>\n",
       "    <tr>\n",
       "      <th>1</th>\n",
       "      <td>31</td>\n",
       "      <td>Private Sector/Self Employed</td>\n",
       "      <td>Yes</td>\n",
       "      <td>1250000</td>\n",
       "      <td>7</td>\n",
       "      <td>0</td>\n",
       "      <td>No</td>\n",
       "      <td>No</td>\n",
       "      <td>0</td>\n",
       "      <td>1</td>\n",
       "      <td>0</td>\n",
       "      <td>0</td>\n",
       "    </tr>\n",
       "    <tr>\n",
       "      <th>2</th>\n",
       "      <td>34</td>\n",
       "      <td>Private Sector/Self Employed</td>\n",
       "      <td>Yes</td>\n",
       "      <td>500000</td>\n",
       "      <td>4</td>\n",
       "      <td>1</td>\n",
       "      <td>No</td>\n",
       "      <td>No</td>\n",
       "      <td>1</td>\n",
       "      <td>1</td>\n",
       "      <td>0</td>\n",
       "      <td>0</td>\n",
       "    </tr>\n",
       "    <tr>\n",
       "      <th>3</th>\n",
       "      <td>28</td>\n",
       "      <td>Private Sector/Self Employed</td>\n",
       "      <td>Yes</td>\n",
       "      <td>700000</td>\n",
       "      <td>3</td>\n",
       "      <td>1</td>\n",
       "      <td>No</td>\n",
       "      <td>No</td>\n",
       "      <td>0</td>\n",
       "      <td>1</td>\n",
       "      <td>0</td>\n",
       "      <td>0</td>\n",
       "    </tr>\n",
       "    <tr>\n",
       "      <th>4</th>\n",
       "      <td>28</td>\n",
       "      <td>Private Sector/Self Employed</td>\n",
       "      <td>Yes</td>\n",
       "      <td>700000</td>\n",
       "      <td>8</td>\n",
       "      <td>1</td>\n",
       "      <td>Yes</td>\n",
       "      <td>No</td>\n",
       "      <td>0</td>\n",
       "      <td>1</td>\n",
       "      <td>1</td>\n",
       "      <td>0</td>\n",
       "    </tr>\n",
       "    <tr>\n",
       "      <th>...</th>\n",
       "      <td>...</td>\n",
       "      <td>...</td>\n",
       "      <td>...</td>\n",
       "      <td>...</td>\n",
       "      <td>...</td>\n",
       "      <td>...</td>\n",
       "      <td>...</td>\n",
       "      <td>...</td>\n",
       "      <td>...</td>\n",
       "      <td>...</td>\n",
       "      <td>...</td>\n",
       "      <td>...</td>\n",
       "    </tr>\n",
       "    <tr>\n",
       "      <th>1982</th>\n",
       "      <td>33</td>\n",
       "      <td>Private Sector/Self Employed</td>\n",
       "      <td>Yes</td>\n",
       "      <td>1500000</td>\n",
       "      <td>4</td>\n",
       "      <td>0</td>\n",
       "      <td>Yes</td>\n",
       "      <td>Yes</td>\n",
       "      <td>1</td>\n",
       "      <td>1</td>\n",
       "      <td>1</td>\n",
       "      <td>1</td>\n",
       "    </tr>\n",
       "    <tr>\n",
       "      <th>1983</th>\n",
       "      <td>28</td>\n",
       "      <td>Private Sector/Self Employed</td>\n",
       "      <td>Yes</td>\n",
       "      <td>1750000</td>\n",
       "      <td>5</td>\n",
       "      <td>1</td>\n",
       "      <td>No</td>\n",
       "      <td>Yes</td>\n",
       "      <td>0</td>\n",
       "      <td>1</td>\n",
       "      <td>0</td>\n",
       "      <td>1</td>\n",
       "    </tr>\n",
       "    <tr>\n",
       "      <th>1984</th>\n",
       "      <td>28</td>\n",
       "      <td>Private Sector/Self Employed</td>\n",
       "      <td>Yes</td>\n",
       "      <td>1150000</td>\n",
       "      <td>6</td>\n",
       "      <td>1</td>\n",
       "      <td>No</td>\n",
       "      <td>No</td>\n",
       "      <td>0</td>\n",
       "      <td>1</td>\n",
       "      <td>0</td>\n",
       "      <td>0</td>\n",
       "    </tr>\n",
       "    <tr>\n",
       "      <th>1985</th>\n",
       "      <td>34</td>\n",
       "      <td>Private Sector/Self Employed</td>\n",
       "      <td>Yes</td>\n",
       "      <td>1000000</td>\n",
       "      <td>6</td>\n",
       "      <td>0</td>\n",
       "      <td>Yes</td>\n",
       "      <td>Yes</td>\n",
       "      <td>1</td>\n",
       "      <td>1</td>\n",
       "      <td>1</td>\n",
       "      <td>1</td>\n",
       "    </tr>\n",
       "    <tr>\n",
       "      <th>1986</th>\n",
       "      <td>34</td>\n",
       "      <td>Private Sector/Self Employed</td>\n",
       "      <td>Yes</td>\n",
       "      <td>500000</td>\n",
       "      <td>4</td>\n",
       "      <td>0</td>\n",
       "      <td>No</td>\n",
       "      <td>No</td>\n",
       "      <td>0</td>\n",
       "      <td>1</td>\n",
       "      <td>0</td>\n",
       "      <td>0</td>\n",
       "    </tr>\n",
       "  </tbody>\n",
       "</table>\n",
       "<p>1987 rows × 12 columns</p>\n",
       "</div>"
      ],
      "text/plain": [
       "      Age               Employment Type GraduateOrNot  AnnualIncome  \\\n",
       "0      31             Government Sector           Yes        400000   \n",
       "1      31  Private Sector/Self Employed           Yes       1250000   \n",
       "2      34  Private Sector/Self Employed           Yes        500000   \n",
       "3      28  Private Sector/Self Employed           Yes        700000   \n",
       "4      28  Private Sector/Self Employed           Yes        700000   \n",
       "...   ...                           ...           ...           ...   \n",
       "1982   33  Private Sector/Self Employed           Yes       1500000   \n",
       "1983   28  Private Sector/Self Employed           Yes       1750000   \n",
       "1984   28  Private Sector/Self Employed           Yes       1150000   \n",
       "1985   34  Private Sector/Self Employed           Yes       1000000   \n",
       "1986   34  Private Sector/Self Employed           Yes        500000   \n",
       "\n",
       "      FamilyMembers  ChronicDiseases FrequentFlyer EverTravelledAbroad  \\\n",
       "0                 6                1            No                  No   \n",
       "1                 7                0            No                  No   \n",
       "2                 4                1            No                  No   \n",
       "3                 3                1            No                  No   \n",
       "4                 8                1           Yes                  No   \n",
       "...             ...              ...           ...                 ...   \n",
       "1982              4                0           Yes                 Yes   \n",
       "1983              5                1            No                 Yes   \n",
       "1984              6                1            No                  No   \n",
       "1985              6                0           Yes                 Yes   \n",
       "1986              4                0            No                  No   \n",
       "\n",
       "      TravelInsurance GraduateOrNot_D FrequentFlyer_D EverTravelledAbroad_D  \n",
       "0                   0               1               0                     0  \n",
       "1                   0               1               0                     0  \n",
       "2                   1               1               0                     0  \n",
       "3                   0               1               0                     0  \n",
       "4                   0               1               1                     0  \n",
       "...               ...             ...             ...                   ...  \n",
       "1982                1               1               1                     1  \n",
       "1983                0               1               0                     1  \n",
       "1984                0               1               0                     0  \n",
       "1985                1               1               1                     1  \n",
       "1986                0               1               0                     0  \n",
       "\n",
       "[1987 rows x 12 columns]"
      ]
     },
     "execution_count": 252,
     "metadata": {},
     "output_type": "execute_result"
    }
   ],
   "source": [
    "# data1=df.loc[:,1]\n",
    "df['GraduateOrNot_D']=yesno_conversion(df['GraduateOrNot'])\n",
    "df['FrequentFlyer_D']=yesno_conversion(df['FrequentFlyer'])\n",
    "df['EverTravelledAbroad_D']=yesno_conversion(df['EverTravelledAbroad'])\n",
    "df"
   ]
  },
  {
   "cell_type": "code",
   "execution_count": 253,
   "id": "b84aa94a",
   "metadata": {},
   "outputs": [
    {
     "data": {
      "text/html": [
       "<div>\n",
       "<style scoped>\n",
       "    .dataframe tbody tr th:only-of-type {\n",
       "        vertical-align: middle;\n",
       "    }\n",
       "\n",
       "    .dataframe tbody tr th {\n",
       "        vertical-align: top;\n",
       "    }\n",
       "\n",
       "    .dataframe thead th {\n",
       "        text-align: right;\n",
       "    }\n",
       "</style>\n",
       "<table border=\"1\" class=\"dataframe\">\n",
       "  <thead>\n",
       "    <tr style=\"text-align: right;\">\n",
       "      <th></th>\n",
       "      <th>Age</th>\n",
       "      <th>Employment Type</th>\n",
       "      <th>GraduateOrNot</th>\n",
       "      <th>AnnualIncome</th>\n",
       "      <th>FamilyMembers</th>\n",
       "      <th>ChronicDiseases</th>\n",
       "      <th>FrequentFlyer</th>\n",
       "      <th>EverTravelledAbroad</th>\n",
       "      <th>TravelInsurance</th>\n",
       "      <th>GraduateOrNot_D</th>\n",
       "      <th>FrequentFlyer_D</th>\n",
       "      <th>EverTravelledAbroad_D</th>\n",
       "      <th>Employment Type_D</th>\n",
       "    </tr>\n",
       "  </thead>\n",
       "  <tbody>\n",
       "    <tr>\n",
       "      <th>0</th>\n",
       "      <td>31</td>\n",
       "      <td>Government Sector</td>\n",
       "      <td>Yes</td>\n",
       "      <td>400000</td>\n",
       "      <td>6</td>\n",
       "      <td>1</td>\n",
       "      <td>No</td>\n",
       "      <td>No</td>\n",
       "      <td>0</td>\n",
       "      <td>1</td>\n",
       "      <td>0</td>\n",
       "      <td>0</td>\n",
       "      <td>1</td>\n",
       "    </tr>\n",
       "    <tr>\n",
       "      <th>1</th>\n",
       "      <td>31</td>\n",
       "      <td>Private Sector/Self Employed</td>\n",
       "      <td>Yes</td>\n",
       "      <td>1250000</td>\n",
       "      <td>7</td>\n",
       "      <td>0</td>\n",
       "      <td>No</td>\n",
       "      <td>No</td>\n",
       "      <td>0</td>\n",
       "      <td>1</td>\n",
       "      <td>0</td>\n",
       "      <td>0</td>\n",
       "      <td>0</td>\n",
       "    </tr>\n",
       "    <tr>\n",
       "      <th>2</th>\n",
       "      <td>34</td>\n",
       "      <td>Private Sector/Self Employed</td>\n",
       "      <td>Yes</td>\n",
       "      <td>500000</td>\n",
       "      <td>4</td>\n",
       "      <td>1</td>\n",
       "      <td>No</td>\n",
       "      <td>No</td>\n",
       "      <td>1</td>\n",
       "      <td>1</td>\n",
       "      <td>0</td>\n",
       "      <td>0</td>\n",
       "      <td>0</td>\n",
       "    </tr>\n",
       "    <tr>\n",
       "      <th>3</th>\n",
       "      <td>28</td>\n",
       "      <td>Private Sector/Self Employed</td>\n",
       "      <td>Yes</td>\n",
       "      <td>700000</td>\n",
       "      <td>3</td>\n",
       "      <td>1</td>\n",
       "      <td>No</td>\n",
       "      <td>No</td>\n",
       "      <td>0</td>\n",
       "      <td>1</td>\n",
       "      <td>0</td>\n",
       "      <td>0</td>\n",
       "      <td>0</td>\n",
       "    </tr>\n",
       "    <tr>\n",
       "      <th>4</th>\n",
       "      <td>28</td>\n",
       "      <td>Private Sector/Self Employed</td>\n",
       "      <td>Yes</td>\n",
       "      <td>700000</td>\n",
       "      <td>8</td>\n",
       "      <td>1</td>\n",
       "      <td>Yes</td>\n",
       "      <td>No</td>\n",
       "      <td>0</td>\n",
       "      <td>1</td>\n",
       "      <td>1</td>\n",
       "      <td>0</td>\n",
       "      <td>0</td>\n",
       "    </tr>\n",
       "    <tr>\n",
       "      <th>...</th>\n",
       "      <td>...</td>\n",
       "      <td>...</td>\n",
       "      <td>...</td>\n",
       "      <td>...</td>\n",
       "      <td>...</td>\n",
       "      <td>...</td>\n",
       "      <td>...</td>\n",
       "      <td>...</td>\n",
       "      <td>...</td>\n",
       "      <td>...</td>\n",
       "      <td>...</td>\n",
       "      <td>...</td>\n",
       "      <td>...</td>\n",
       "    </tr>\n",
       "    <tr>\n",
       "      <th>1982</th>\n",
       "      <td>33</td>\n",
       "      <td>Private Sector/Self Employed</td>\n",
       "      <td>Yes</td>\n",
       "      <td>1500000</td>\n",
       "      <td>4</td>\n",
       "      <td>0</td>\n",
       "      <td>Yes</td>\n",
       "      <td>Yes</td>\n",
       "      <td>1</td>\n",
       "      <td>1</td>\n",
       "      <td>1</td>\n",
       "      <td>1</td>\n",
       "      <td>0</td>\n",
       "    </tr>\n",
       "    <tr>\n",
       "      <th>1983</th>\n",
       "      <td>28</td>\n",
       "      <td>Private Sector/Self Employed</td>\n",
       "      <td>Yes</td>\n",
       "      <td>1750000</td>\n",
       "      <td>5</td>\n",
       "      <td>1</td>\n",
       "      <td>No</td>\n",
       "      <td>Yes</td>\n",
       "      <td>0</td>\n",
       "      <td>1</td>\n",
       "      <td>0</td>\n",
       "      <td>1</td>\n",
       "      <td>0</td>\n",
       "    </tr>\n",
       "    <tr>\n",
       "      <th>1984</th>\n",
       "      <td>28</td>\n",
       "      <td>Private Sector/Self Employed</td>\n",
       "      <td>Yes</td>\n",
       "      <td>1150000</td>\n",
       "      <td>6</td>\n",
       "      <td>1</td>\n",
       "      <td>No</td>\n",
       "      <td>No</td>\n",
       "      <td>0</td>\n",
       "      <td>1</td>\n",
       "      <td>0</td>\n",
       "      <td>0</td>\n",
       "      <td>0</td>\n",
       "    </tr>\n",
       "    <tr>\n",
       "      <th>1985</th>\n",
       "      <td>34</td>\n",
       "      <td>Private Sector/Self Employed</td>\n",
       "      <td>Yes</td>\n",
       "      <td>1000000</td>\n",
       "      <td>6</td>\n",
       "      <td>0</td>\n",
       "      <td>Yes</td>\n",
       "      <td>Yes</td>\n",
       "      <td>1</td>\n",
       "      <td>1</td>\n",
       "      <td>1</td>\n",
       "      <td>1</td>\n",
       "      <td>0</td>\n",
       "    </tr>\n",
       "    <tr>\n",
       "      <th>1986</th>\n",
       "      <td>34</td>\n",
       "      <td>Private Sector/Self Employed</td>\n",
       "      <td>Yes</td>\n",
       "      <td>500000</td>\n",
       "      <td>4</td>\n",
       "      <td>0</td>\n",
       "      <td>No</td>\n",
       "      <td>No</td>\n",
       "      <td>0</td>\n",
       "      <td>1</td>\n",
       "      <td>0</td>\n",
       "      <td>0</td>\n",
       "      <td>0</td>\n",
       "    </tr>\n",
       "  </tbody>\n",
       "</table>\n",
       "<p>1987 rows × 13 columns</p>\n",
       "</div>"
      ],
      "text/plain": [
       "      Age               Employment Type GraduateOrNot  AnnualIncome  \\\n",
       "0      31             Government Sector           Yes        400000   \n",
       "1      31  Private Sector/Self Employed           Yes       1250000   \n",
       "2      34  Private Sector/Self Employed           Yes        500000   \n",
       "3      28  Private Sector/Self Employed           Yes        700000   \n",
       "4      28  Private Sector/Self Employed           Yes        700000   \n",
       "...   ...                           ...           ...           ...   \n",
       "1982   33  Private Sector/Self Employed           Yes       1500000   \n",
       "1983   28  Private Sector/Self Employed           Yes       1750000   \n",
       "1984   28  Private Sector/Self Employed           Yes       1150000   \n",
       "1985   34  Private Sector/Self Employed           Yes       1000000   \n",
       "1986   34  Private Sector/Self Employed           Yes        500000   \n",
       "\n",
       "      FamilyMembers  ChronicDiseases FrequentFlyer EverTravelledAbroad  \\\n",
       "0                 6                1            No                  No   \n",
       "1                 7                0            No                  No   \n",
       "2                 4                1            No                  No   \n",
       "3                 3                1            No                  No   \n",
       "4                 8                1           Yes                  No   \n",
       "...             ...              ...           ...                 ...   \n",
       "1982              4                0           Yes                 Yes   \n",
       "1983              5                1            No                 Yes   \n",
       "1984              6                1            No                  No   \n",
       "1985              6                0           Yes                 Yes   \n",
       "1986              4                0            No                  No   \n",
       "\n",
       "      TravelInsurance GraduateOrNot_D FrequentFlyer_D EverTravelledAbroad_D  \\\n",
       "0                   0               1               0                     0   \n",
       "1                   0               1               0                     0   \n",
       "2                   1               1               0                     0   \n",
       "3                   0               1               0                     0   \n",
       "4                   0               1               1                     0   \n",
       "...               ...             ...             ...                   ...   \n",
       "1982                1               1               1                     1   \n",
       "1983                0               1               0                     1   \n",
       "1984                0               1               0                     0   \n",
       "1985                1               1               1                     1   \n",
       "1986                0               1               0                     0   \n",
       "\n",
       "     Employment Type_D  \n",
       "0                    1  \n",
       "1                    0  \n",
       "2                    0  \n",
       "3                    0  \n",
       "4                    0  \n",
       "...                ...  \n",
       "1982                 0  \n",
       "1983                 0  \n",
       "1984                 0  \n",
       "1985                 0  \n",
       "1986                 0  \n",
       "\n",
       "[1987 rows x 13 columns]"
      ]
     },
     "execution_count": 253,
     "metadata": {},
     "output_type": "execute_result"
    }
   ],
   "source": [
    "df['Employment Type_D']=employ_conversion(df['Employment Type'])\n",
    "df"
   ]
  },
  {
   "cell_type": "code",
   "execution_count": 254,
   "id": "c140d820",
   "metadata": {},
   "outputs": [
    {
     "data": {
      "text/html": [
       "<div>\n",
       "<style scoped>\n",
       "    .dataframe tbody tr th:only-of-type {\n",
       "        vertical-align: middle;\n",
       "    }\n",
       "\n",
       "    .dataframe tbody tr th {\n",
       "        vertical-align: top;\n",
       "    }\n",
       "\n",
       "    .dataframe thead th {\n",
       "        text-align: right;\n",
       "    }\n",
       "</style>\n",
       "<table border=\"1\" class=\"dataframe\">\n",
       "  <thead>\n",
       "    <tr style=\"text-align: right;\">\n",
       "      <th></th>\n",
       "      <th>Age</th>\n",
       "      <th>AnnualIncome</th>\n",
       "      <th>FamilyMembers</th>\n",
       "      <th>ChronicDiseases</th>\n",
       "      <th>TravelInsurance</th>\n",
       "      <th>GraduateOrNot_D</th>\n",
       "      <th>FrequentFlyer_D</th>\n",
       "      <th>EverTravelledAbroad_D</th>\n",
       "      <th>Employment Type_D</th>\n",
       "    </tr>\n",
       "  </thead>\n",
       "  <tbody>\n",
       "    <tr>\n",
       "      <th>0</th>\n",
       "      <td>31</td>\n",
       "      <td>400000</td>\n",
       "      <td>6</td>\n",
       "      <td>1</td>\n",
       "      <td>0</td>\n",
       "      <td>1</td>\n",
       "      <td>0</td>\n",
       "      <td>0</td>\n",
       "      <td>1</td>\n",
       "    </tr>\n",
       "    <tr>\n",
       "      <th>1</th>\n",
       "      <td>31</td>\n",
       "      <td>1250000</td>\n",
       "      <td>7</td>\n",
       "      <td>0</td>\n",
       "      <td>0</td>\n",
       "      <td>1</td>\n",
       "      <td>0</td>\n",
       "      <td>0</td>\n",
       "      <td>0</td>\n",
       "    </tr>\n",
       "    <tr>\n",
       "      <th>2</th>\n",
       "      <td>34</td>\n",
       "      <td>500000</td>\n",
       "      <td>4</td>\n",
       "      <td>1</td>\n",
       "      <td>1</td>\n",
       "      <td>1</td>\n",
       "      <td>0</td>\n",
       "      <td>0</td>\n",
       "      <td>0</td>\n",
       "    </tr>\n",
       "    <tr>\n",
       "      <th>3</th>\n",
       "      <td>28</td>\n",
       "      <td>700000</td>\n",
       "      <td>3</td>\n",
       "      <td>1</td>\n",
       "      <td>0</td>\n",
       "      <td>1</td>\n",
       "      <td>0</td>\n",
       "      <td>0</td>\n",
       "      <td>0</td>\n",
       "    </tr>\n",
       "    <tr>\n",
       "      <th>4</th>\n",
       "      <td>28</td>\n",
       "      <td>700000</td>\n",
       "      <td>8</td>\n",
       "      <td>1</td>\n",
       "      <td>0</td>\n",
       "      <td>1</td>\n",
       "      <td>1</td>\n",
       "      <td>0</td>\n",
       "      <td>0</td>\n",
       "    </tr>\n",
       "    <tr>\n",
       "      <th>...</th>\n",
       "      <td>...</td>\n",
       "      <td>...</td>\n",
       "      <td>...</td>\n",
       "      <td>...</td>\n",
       "      <td>...</td>\n",
       "      <td>...</td>\n",
       "      <td>...</td>\n",
       "      <td>...</td>\n",
       "      <td>...</td>\n",
       "    </tr>\n",
       "    <tr>\n",
       "      <th>1982</th>\n",
       "      <td>33</td>\n",
       "      <td>1500000</td>\n",
       "      <td>4</td>\n",
       "      <td>0</td>\n",
       "      <td>1</td>\n",
       "      <td>1</td>\n",
       "      <td>1</td>\n",
       "      <td>1</td>\n",
       "      <td>0</td>\n",
       "    </tr>\n",
       "    <tr>\n",
       "      <th>1983</th>\n",
       "      <td>28</td>\n",
       "      <td>1750000</td>\n",
       "      <td>5</td>\n",
       "      <td>1</td>\n",
       "      <td>0</td>\n",
       "      <td>1</td>\n",
       "      <td>0</td>\n",
       "      <td>1</td>\n",
       "      <td>0</td>\n",
       "    </tr>\n",
       "    <tr>\n",
       "      <th>1984</th>\n",
       "      <td>28</td>\n",
       "      <td>1150000</td>\n",
       "      <td>6</td>\n",
       "      <td>1</td>\n",
       "      <td>0</td>\n",
       "      <td>1</td>\n",
       "      <td>0</td>\n",
       "      <td>0</td>\n",
       "      <td>0</td>\n",
       "    </tr>\n",
       "    <tr>\n",
       "      <th>1985</th>\n",
       "      <td>34</td>\n",
       "      <td>1000000</td>\n",
       "      <td>6</td>\n",
       "      <td>0</td>\n",
       "      <td>1</td>\n",
       "      <td>1</td>\n",
       "      <td>1</td>\n",
       "      <td>1</td>\n",
       "      <td>0</td>\n",
       "    </tr>\n",
       "    <tr>\n",
       "      <th>1986</th>\n",
       "      <td>34</td>\n",
       "      <td>500000</td>\n",
       "      <td>4</td>\n",
       "      <td>0</td>\n",
       "      <td>0</td>\n",
       "      <td>1</td>\n",
       "      <td>0</td>\n",
       "      <td>0</td>\n",
       "      <td>0</td>\n",
       "    </tr>\n",
       "  </tbody>\n",
       "</table>\n",
       "<p>1987 rows × 9 columns</p>\n",
       "</div>"
      ],
      "text/plain": [
       "      Age  AnnualIncome  FamilyMembers  ChronicDiseases  TravelInsurance  \\\n",
       "0      31        400000              6                1                0   \n",
       "1      31       1250000              7                0                0   \n",
       "2      34        500000              4                1                1   \n",
       "3      28        700000              3                1                0   \n",
       "4      28        700000              8                1                0   \n",
       "...   ...           ...            ...              ...              ...   \n",
       "1982   33       1500000              4                0                1   \n",
       "1983   28       1750000              5                1                0   \n",
       "1984   28       1150000              6                1                0   \n",
       "1985   34       1000000              6                0                1   \n",
       "1986   34        500000              4                0                0   \n",
       "\n",
       "     GraduateOrNot_D FrequentFlyer_D EverTravelledAbroad_D Employment Type_D  \n",
       "0                  1               0                     0                 1  \n",
       "1                  1               0                     0                 0  \n",
       "2                  1               0                     0                 0  \n",
       "3                  1               0                     0                 0  \n",
       "4                  1               1                     0                 0  \n",
       "...              ...             ...                   ...               ...  \n",
       "1982               1               1                     1                 0  \n",
       "1983               1               0                     1                 0  \n",
       "1984               1               0                     0                 0  \n",
       "1985               1               1                     1                 0  \n",
       "1986               1               0                     0                 0  \n",
       "\n",
       "[1987 rows x 9 columns]"
      ]
     },
     "execution_count": 254,
     "metadata": {},
     "output_type": "execute_result"
    }
   ],
   "source": [
    "df1=df.drop(columns=['Employment Type','GraduateOrNot','FrequentFlyer','EverTravelledAbroad'])\n",
    "df1"
   ]
  },
  {
   "cell_type": "code",
   "execution_count": null,
   "id": "fd8ca53a",
   "metadata": {},
   "outputs": [],
   "source": []
  },
  {
   "cell_type": "code",
   "execution_count": 104,
   "id": "ed15a94f",
   "metadata": {},
   "outputs": [],
   "source": [
    "from sklearn.datasets import load_iris   \n",
    "from sklearn.model_selection import train_test_split\n",
    "from sklearn.linear_model import LogisticRegression "
   ]
  },
  {
   "cell_type": "code",
   "execution_count": 255,
   "id": "100f3b8a",
   "metadata": {},
   "outputs": [],
   "source": [
    "y = df1['TravelInsurance']\n",
    "X = df1.drop(['TravelInsurance'], axis=1)"
   ]
  },
  {
   "cell_type": "code",
   "execution_count": 256,
   "id": "3249938e",
   "metadata": {},
   "outputs": [
    {
     "data": {
      "text/html": [
       "<div>\n",
       "<style scoped>\n",
       "    .dataframe tbody tr th:only-of-type {\n",
       "        vertical-align: middle;\n",
       "    }\n",
       "\n",
       "    .dataframe tbody tr th {\n",
       "        vertical-align: top;\n",
       "    }\n",
       "\n",
       "    .dataframe thead th {\n",
       "        text-align: right;\n",
       "    }\n",
       "</style>\n",
       "<table border=\"1\" class=\"dataframe\">\n",
       "  <thead>\n",
       "    <tr style=\"text-align: right;\">\n",
       "      <th></th>\n",
       "      <th>Age</th>\n",
       "      <th>AnnualIncome</th>\n",
       "      <th>FamilyMembers</th>\n",
       "      <th>ChronicDiseases</th>\n",
       "      <th>GraduateOrNot_D</th>\n",
       "      <th>FrequentFlyer_D</th>\n",
       "      <th>EverTravelledAbroad_D</th>\n",
       "      <th>Employment Type_D</th>\n",
       "    </tr>\n",
       "  </thead>\n",
       "  <tbody>\n",
       "    <tr>\n",
       "      <th>0</th>\n",
       "      <td>31</td>\n",
       "      <td>400000</td>\n",
       "      <td>6</td>\n",
       "      <td>1</td>\n",
       "      <td>1</td>\n",
       "      <td>0</td>\n",
       "      <td>0</td>\n",
       "      <td>1</td>\n",
       "    </tr>\n",
       "    <tr>\n",
       "      <th>1</th>\n",
       "      <td>31</td>\n",
       "      <td>1250000</td>\n",
       "      <td>7</td>\n",
       "      <td>0</td>\n",
       "      <td>1</td>\n",
       "      <td>0</td>\n",
       "      <td>0</td>\n",
       "      <td>0</td>\n",
       "    </tr>\n",
       "    <tr>\n",
       "      <th>2</th>\n",
       "      <td>34</td>\n",
       "      <td>500000</td>\n",
       "      <td>4</td>\n",
       "      <td>1</td>\n",
       "      <td>1</td>\n",
       "      <td>0</td>\n",
       "      <td>0</td>\n",
       "      <td>0</td>\n",
       "    </tr>\n",
       "    <tr>\n",
       "      <th>3</th>\n",
       "      <td>28</td>\n",
       "      <td>700000</td>\n",
       "      <td>3</td>\n",
       "      <td>1</td>\n",
       "      <td>1</td>\n",
       "      <td>0</td>\n",
       "      <td>0</td>\n",
       "      <td>0</td>\n",
       "    </tr>\n",
       "    <tr>\n",
       "      <th>4</th>\n",
       "      <td>28</td>\n",
       "      <td>700000</td>\n",
       "      <td>8</td>\n",
       "      <td>1</td>\n",
       "      <td>1</td>\n",
       "      <td>1</td>\n",
       "      <td>0</td>\n",
       "      <td>0</td>\n",
       "    </tr>\n",
       "    <tr>\n",
       "      <th>...</th>\n",
       "      <td>...</td>\n",
       "      <td>...</td>\n",
       "      <td>...</td>\n",
       "      <td>...</td>\n",
       "      <td>...</td>\n",
       "      <td>...</td>\n",
       "      <td>...</td>\n",
       "      <td>...</td>\n",
       "    </tr>\n",
       "    <tr>\n",
       "      <th>1982</th>\n",
       "      <td>33</td>\n",
       "      <td>1500000</td>\n",
       "      <td>4</td>\n",
       "      <td>0</td>\n",
       "      <td>1</td>\n",
       "      <td>1</td>\n",
       "      <td>1</td>\n",
       "      <td>0</td>\n",
       "    </tr>\n",
       "    <tr>\n",
       "      <th>1983</th>\n",
       "      <td>28</td>\n",
       "      <td>1750000</td>\n",
       "      <td>5</td>\n",
       "      <td>1</td>\n",
       "      <td>1</td>\n",
       "      <td>0</td>\n",
       "      <td>1</td>\n",
       "      <td>0</td>\n",
       "    </tr>\n",
       "    <tr>\n",
       "      <th>1984</th>\n",
       "      <td>28</td>\n",
       "      <td>1150000</td>\n",
       "      <td>6</td>\n",
       "      <td>1</td>\n",
       "      <td>1</td>\n",
       "      <td>0</td>\n",
       "      <td>0</td>\n",
       "      <td>0</td>\n",
       "    </tr>\n",
       "    <tr>\n",
       "      <th>1985</th>\n",
       "      <td>34</td>\n",
       "      <td>1000000</td>\n",
       "      <td>6</td>\n",
       "      <td>0</td>\n",
       "      <td>1</td>\n",
       "      <td>1</td>\n",
       "      <td>1</td>\n",
       "      <td>0</td>\n",
       "    </tr>\n",
       "    <tr>\n",
       "      <th>1986</th>\n",
       "      <td>34</td>\n",
       "      <td>500000</td>\n",
       "      <td>4</td>\n",
       "      <td>0</td>\n",
       "      <td>1</td>\n",
       "      <td>0</td>\n",
       "      <td>0</td>\n",
       "      <td>0</td>\n",
       "    </tr>\n",
       "  </tbody>\n",
       "</table>\n",
       "<p>1987 rows × 8 columns</p>\n",
       "</div>"
      ],
      "text/plain": [
       "      Age  AnnualIncome  FamilyMembers  ChronicDiseases GraduateOrNot_D  \\\n",
       "0      31        400000              6                1               1   \n",
       "1      31       1250000              7                0               1   \n",
       "2      34        500000              4                1               1   \n",
       "3      28        700000              3                1               1   \n",
       "4      28        700000              8                1               1   \n",
       "...   ...           ...            ...              ...             ...   \n",
       "1982   33       1500000              4                0               1   \n",
       "1983   28       1750000              5                1               1   \n",
       "1984   28       1150000              6                1               1   \n",
       "1985   34       1000000              6                0               1   \n",
       "1986   34        500000              4                0               1   \n",
       "\n",
       "     FrequentFlyer_D EverTravelledAbroad_D Employment Type_D  \n",
       "0                  0                     0                 1  \n",
       "1                  0                     0                 0  \n",
       "2                  0                     0                 0  \n",
       "3                  0                     0                 0  \n",
       "4                  1                     0                 0  \n",
       "...              ...                   ...               ...  \n",
       "1982               1                     1                 0  \n",
       "1983               0                     1                 0  \n",
       "1984               0                     0                 0  \n",
       "1985               1                     1                 0  \n",
       "1986               0                     0                 0  \n",
       "\n",
       "[1987 rows x 8 columns]"
      ]
     },
     "execution_count": 256,
     "metadata": {},
     "output_type": "execute_result"
    }
   ],
   "source": [
    "X"
   ]
  },
  {
   "cell_type": "markdown",
   "id": "9f838416",
   "metadata": {},
   "source": [
    "## Normalization"
   ]
  },
  {
   "cell_type": "code",
   "execution_count": 257,
   "id": "a46b2125",
   "metadata": {},
   "outputs": [
    {
     "data": {
      "text/html": [
       "<div>\n",
       "<style scoped>\n",
       "    .dataframe tbody tr th:only-of-type {\n",
       "        vertical-align: middle;\n",
       "    }\n",
       "\n",
       "    .dataframe tbody tr th {\n",
       "        vertical-align: top;\n",
       "    }\n",
       "\n",
       "    .dataframe thead th {\n",
       "        text-align: right;\n",
       "    }\n",
       "</style>\n",
       "<table border=\"1\" class=\"dataframe\">\n",
       "  <thead>\n",
       "    <tr style=\"text-align: right;\">\n",
       "      <th></th>\n",
       "      <th>Age</th>\n",
       "      <th>AnnualIncome</th>\n",
       "      <th>FamilyMembers</th>\n",
       "      <th>ChronicDiseases</th>\n",
       "      <th>GraduateOrNot_D</th>\n",
       "      <th>FrequentFlyer_D</th>\n",
       "      <th>EverTravelledAbroad_D</th>\n",
       "      <th>Employment Type_D</th>\n",
       "    </tr>\n",
       "  </thead>\n",
       "  <tbody>\n",
       "    <tr>\n",
       "      <th>0</th>\n",
       "      <td>0.6</td>\n",
       "      <td>0.066667</td>\n",
       "      <td>0.571429</td>\n",
       "      <td>1.0</td>\n",
       "      <td>1.0</td>\n",
       "      <td>0.0</td>\n",
       "      <td>0.0</td>\n",
       "      <td>1.0</td>\n",
       "    </tr>\n",
       "    <tr>\n",
       "      <th>1</th>\n",
       "      <td>0.6</td>\n",
       "      <td>0.633333</td>\n",
       "      <td>0.714286</td>\n",
       "      <td>0.0</td>\n",
       "      <td>1.0</td>\n",
       "      <td>0.0</td>\n",
       "      <td>0.0</td>\n",
       "      <td>0.0</td>\n",
       "    </tr>\n",
       "    <tr>\n",
       "      <th>2</th>\n",
       "      <td>0.9</td>\n",
       "      <td>0.133333</td>\n",
       "      <td>0.285714</td>\n",
       "      <td>1.0</td>\n",
       "      <td>1.0</td>\n",
       "      <td>0.0</td>\n",
       "      <td>0.0</td>\n",
       "      <td>0.0</td>\n",
       "    </tr>\n",
       "    <tr>\n",
       "      <th>3</th>\n",
       "      <td>0.3</td>\n",
       "      <td>0.266667</td>\n",
       "      <td>0.142857</td>\n",
       "      <td>1.0</td>\n",
       "      <td>1.0</td>\n",
       "      <td>0.0</td>\n",
       "      <td>0.0</td>\n",
       "      <td>0.0</td>\n",
       "    </tr>\n",
       "    <tr>\n",
       "      <th>4</th>\n",
       "      <td>0.3</td>\n",
       "      <td>0.266667</td>\n",
       "      <td>0.857143</td>\n",
       "      <td>1.0</td>\n",
       "      <td>1.0</td>\n",
       "      <td>1.0</td>\n",
       "      <td>0.0</td>\n",
       "      <td>0.0</td>\n",
       "    </tr>\n",
       "  </tbody>\n",
       "</table>\n",
       "</div>"
      ],
      "text/plain": [
       "   Age  AnnualIncome  FamilyMembers  ChronicDiseases  GraduateOrNot_D  \\\n",
       "0  0.6      0.066667       0.571429              1.0              1.0   \n",
       "1  0.6      0.633333       0.714286              0.0              1.0   \n",
       "2  0.9      0.133333       0.285714              1.0              1.0   \n",
       "3  0.3      0.266667       0.142857              1.0              1.0   \n",
       "4  0.3      0.266667       0.857143              1.0              1.0   \n",
       "\n",
       "   FrequentFlyer_D  EverTravelledAbroad_D  Employment Type_D  \n",
       "0              0.0                    0.0                1.0  \n",
       "1              0.0                    0.0                0.0  \n",
       "2              0.0                    0.0                0.0  \n",
       "3              0.0                    0.0                0.0  \n",
       "4              1.0                    0.0                0.0  "
      ]
     },
     "execution_count": 257,
     "metadata": {},
     "output_type": "execute_result"
    }
   ],
   "source": [
    "from sklearn import preprocessing\n",
    "scaler = preprocessing.MinMaxScaler()\n",
    "names = X.columns\n",
    "d = scaler.fit_transform(X)\n",
    "scaled_df = pd.DataFrame(d, columns=names)\n",
    "scaled_df.head()"
   ]
  },
  {
   "cell_type": "markdown",
   "id": "2a09f40d",
   "metadata": {},
   "source": [
    "## Building model"
   ]
  },
  {
   "cell_type": "code",
   "execution_count": 258,
   "id": "b6271f42",
   "metadata": {},
   "outputs": [],
   "source": [
    "X_train, X_test, y_train, y_test = train_test_split(scaled_df, y, test_size=0.2)"
   ]
  },
  {
   "cell_type": "code",
   "execution_count": 259,
   "id": "3539cb63",
   "metadata": {},
   "outputs": [],
   "source": [
    "lr = LogisticRegression(C=1e5)  \n",
    "lr = lr.fit(X_train,y_train)"
   ]
  },
  {
   "cell_type": "code",
   "execution_count": 239,
   "id": "37ce641f",
   "metadata": {},
   "outputs": [],
   "source": [
    "from sklearn import metrics"
   ]
  },
  {
   "cell_type": "code",
   "execution_count": 260,
   "id": "ab098310",
   "metadata": {},
   "outputs": [],
   "source": [
    "y_hat = lr.predict(X_test)\n",
    "\n",
    "accuracy = metrics.accuracy_score(y_test, y_hat)"
   ]
  },
  {
   "cell_type": "code",
   "execution_count": 261,
   "id": "c267e319",
   "metadata": {},
   "outputs": [
    {
     "data": {
      "text/plain": [
       "0.7437185929648241"
      ]
     },
     "execution_count": 261,
     "metadata": {},
     "output_type": "execute_result"
    }
   ],
   "source": [
    "accuracy"
   ]
  },
  {
   "cell_type": "code",
   "execution_count": 262,
   "id": "9b950468",
   "metadata": {},
   "outputs": [
    {
     "data": {
      "text/plain": [
       "Text(0.5, 1.0, 'Variances Importances')"
      ]
     },
     "execution_count": 262,
     "metadata": {},
     "output_type": "execute_result"
    },
    {
     "data": {
      "image/png": "[encoded data removed]",
      "text/plain": [
       "<Figure size 576x576 with 1 Axes>"
      ]
     },
     "metadata": {
      "needs_background": "light"
     },
     "output_type": "display_data"
    }
   ],
   "source": [
    "coef_LR = pd.Series(lr.coef_.flatten(),index = X_test.columns,name = 'Var')\n",
    "plt.figure(figsize=(8,8))\n",
    "coef_LR.sort_values().plot(kind='barh')\n",
    "plt.title(\"Variances Importances\")\n"
   ]
  },
  {
   "cell_type": "markdown",
   "id": "d87f89b4",
   "metadata": {},
   "source": [
    "**The results of the importance of features in logistic regression are similar to findings in the EDA section.\\\n",
    "Annual income is the most important feature.**\n"
   ]
  },
  {
   "cell_type": "code",
   "execution_count": null,
   "id": "4ebe2001",
   "metadata": {},
   "outputs": [],
   "source": []
  }
 ],
 "metadata": {
  "kernelspec": {
   "display_name": "Python 3",
   "language": "python",
   "name": "python3"
  },
  "language_info": {
   "codemirror_mode": {
    "name": "ipython",
    "version": 3
   },
   "file_extension": ".py",
   "mimetype": "text/x-python",
   "name": "python",
   "nbconvert_exporter": "python",
   "pygments_lexer": "ipython3",
   "version": "3.8.8"
  },
  "toc": {
   "base_numbering": 1,
   "nav_menu": {},
   "number_sections": true,
   "sideBar": true,
   "skip_h1_title": false,
   "title_cell": "Table of Contents",
   "title_sidebar": "Contents",
   "toc_cell": false,
   "toc_position": {},
   "toc_section_display": true,
   "toc_window_display": true
  }
 },
 "nbformat": 4,
 "nbformat_minor": 5
}
